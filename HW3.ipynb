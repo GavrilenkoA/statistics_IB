{
 "cells": [
  {
   "cell_type": "code",
   "execution_count": 184,
   "id": "d597cfd4",
   "metadata": {},
   "outputs": [],
   "source": [
    "# Pandas понадобится нам для чтения денных\n",
    "import pandas as pd\n",
    "import seaborn as sns\n",
    "import matplotlib.pyplot as plt\n",
    "import numpy as np\n"
   ]
  },
  {
   "cell_type": "code",
   "execution_count": 185,
   "outputs": [],
   "source": [
    "from statsmodels.stats.multitest import multipletests"
   ],
   "metadata": {
    "collapsed": false
   }
  },
  {
   "cell_type": "code",
   "execution_count": 5,
   "id": "82a8175b",
   "metadata": {},
   "outputs": [],
   "source": [
    "data_path = \"./homework_lecture_5_data.csv\""
   ]
  },
  {
   "cell_type": "code",
   "execution_count": 8,
   "id": "d0d054d4",
   "metadata": {},
   "outputs": [],
   "source": [
    "data = pd.read_csv(data_path, index_col = 0)"
   ]
  },
  {
   "cell_type": "code",
   "execution_count": 186,
   "id": "4123ca4c",
   "metadata": {},
   "outputs": [
    {
     "data": {
      "text/plain": "Int64Index([  0,   1,   2,   3,   4,   5,   6,   7,   8,   9,\n            ...\n            490, 491, 492, 493, 494, 495, 496, 497, 498, 499],\n           dtype='int64', length=1000)"
     },
     "execution_count": 186,
     "metadata": {},
     "output_type": "execute_result"
    }
   ],
   "source": [
    "data.index"
   ]
  },
  {
   "cell_type": "code",
   "execution_count": 187,
   "id": "fa0e2459",
   "metadata": {},
   "outputs": [
    {
     "data": {
      "text/plain": "       TMCC1     RANBP3    GABRG3    ARRDC5       LRP3      TIMM23      TBPL1  \\\n0  33.888550  38.384340  0.044721  1.385159  11.341853  105.193306  26.463990   \n1  16.497124  35.054090  0.314645  4.329797   8.649321   50.577618  16.684614   \n2   5.449933  31.783958  0.002949  2.137536   1.750892  109.201050  35.265984   \n3  33.362240  56.147026  0.037295  1.604904   6.807299  100.141620  25.446817   \n4  50.188510  30.165264  0.039678  1.501439   1.619954   46.916790  28.053373   \n\n      BIRC8     TTC28   C19orf66  ...     MAGEA6       IL4I1     LCN12  \\\n0  0.000000  1.537873  27.645407  ...  21.332443    1.397932  0.000000   \n1  0.000000  1.796609  13.715611  ...   1.199440  159.147130  0.259244   \n2  0.011501  0.878889  19.361662  ...   0.002924   25.256378  0.000000   \n3  0.000000  2.502661  12.745437  ...   0.000000   14.509516  0.063003   \n4  0.018181  1.165164  30.318027  ...   0.033807   93.681190  0.031816   \n\n        SMG6  C1orf100      WDR75    ZBTB26    SPTY2D1    PLEKHA2  Cell_type  \n0  23.136585  0.001902  60.218548  6.307399   9.577274  44.026940     B_cell  \n1  18.986986  0.310971  25.818224  4.193348  14.181196  35.779896     B_cell  \n2  32.941895  0.000000  99.555990  8.323141  29.321960  30.816538     B_cell  \n3  19.036896  0.000000  49.394980  4.655794  17.683067  47.143270     B_cell  \n4  19.094831  0.000000  20.201437  6.935232  20.769829  53.935143     B_cell  \n\n[5 rows x 18793 columns]",
      "text/html": "<div>\n<style scoped>\n    .dataframe tbody tr th:only-of-type {\n        vertical-align: middle;\n    }\n\n    .dataframe tbody tr th {\n        vertical-align: top;\n    }\n\n    .dataframe thead th {\n        text-align: right;\n    }\n</style>\n<table border=\"1\" class=\"dataframe\">\n  <thead>\n    <tr style=\"text-align: right;\">\n      <th></th>\n      <th>TMCC1</th>\n      <th>RANBP3</th>\n      <th>GABRG3</th>\n      <th>ARRDC5</th>\n      <th>LRP3</th>\n      <th>TIMM23</th>\n      <th>TBPL1</th>\n      <th>BIRC8</th>\n      <th>TTC28</th>\n      <th>C19orf66</th>\n      <th>...</th>\n      <th>MAGEA6</th>\n      <th>IL4I1</th>\n      <th>LCN12</th>\n      <th>SMG6</th>\n      <th>C1orf100</th>\n      <th>WDR75</th>\n      <th>ZBTB26</th>\n      <th>SPTY2D1</th>\n      <th>PLEKHA2</th>\n      <th>Cell_type</th>\n    </tr>\n  </thead>\n  <tbody>\n    <tr>\n      <th>0</th>\n      <td>33.888550</td>\n      <td>38.384340</td>\n      <td>0.044721</td>\n      <td>1.385159</td>\n      <td>11.341853</td>\n      <td>105.193306</td>\n      <td>26.463990</td>\n      <td>0.000000</td>\n      <td>1.537873</td>\n      <td>27.645407</td>\n      <td>...</td>\n      <td>21.332443</td>\n      <td>1.397932</td>\n      <td>0.000000</td>\n      <td>23.136585</td>\n      <td>0.001902</td>\n      <td>60.218548</td>\n      <td>6.307399</td>\n      <td>9.577274</td>\n      <td>44.026940</td>\n      <td>B_cell</td>\n    </tr>\n    <tr>\n      <th>1</th>\n      <td>16.497124</td>\n      <td>35.054090</td>\n      <td>0.314645</td>\n      <td>4.329797</td>\n      <td>8.649321</td>\n      <td>50.577618</td>\n      <td>16.684614</td>\n      <td>0.000000</td>\n      <td>1.796609</td>\n      <td>13.715611</td>\n      <td>...</td>\n      <td>1.199440</td>\n      <td>159.147130</td>\n      <td>0.259244</td>\n      <td>18.986986</td>\n      <td>0.310971</td>\n      <td>25.818224</td>\n      <td>4.193348</td>\n      <td>14.181196</td>\n      <td>35.779896</td>\n      <td>B_cell</td>\n    </tr>\n    <tr>\n      <th>2</th>\n      <td>5.449933</td>\n      <td>31.783958</td>\n      <td>0.002949</td>\n      <td>2.137536</td>\n      <td>1.750892</td>\n      <td>109.201050</td>\n      <td>35.265984</td>\n      <td>0.011501</td>\n      <td>0.878889</td>\n      <td>19.361662</td>\n      <td>...</td>\n      <td>0.002924</td>\n      <td>25.256378</td>\n      <td>0.000000</td>\n      <td>32.941895</td>\n      <td>0.000000</td>\n      <td>99.555990</td>\n      <td>8.323141</td>\n      <td>29.321960</td>\n      <td>30.816538</td>\n      <td>B_cell</td>\n    </tr>\n    <tr>\n      <th>3</th>\n      <td>33.362240</td>\n      <td>56.147026</td>\n      <td>0.037295</td>\n      <td>1.604904</td>\n      <td>6.807299</td>\n      <td>100.141620</td>\n      <td>25.446817</td>\n      <td>0.000000</td>\n      <td>2.502661</td>\n      <td>12.745437</td>\n      <td>...</td>\n      <td>0.000000</td>\n      <td>14.509516</td>\n      <td>0.063003</td>\n      <td>19.036896</td>\n      <td>0.000000</td>\n      <td>49.394980</td>\n      <td>4.655794</td>\n      <td>17.683067</td>\n      <td>47.143270</td>\n      <td>B_cell</td>\n    </tr>\n    <tr>\n      <th>4</th>\n      <td>50.188510</td>\n      <td>30.165264</td>\n      <td>0.039678</td>\n      <td>1.501439</td>\n      <td>1.619954</td>\n      <td>46.916790</td>\n      <td>28.053373</td>\n      <td>0.018181</td>\n      <td>1.165164</td>\n      <td>30.318027</td>\n      <td>...</td>\n      <td>0.033807</td>\n      <td>93.681190</td>\n      <td>0.031816</td>\n      <td>19.094831</td>\n      <td>0.000000</td>\n      <td>20.201437</td>\n      <td>6.935232</td>\n      <td>20.769829</td>\n      <td>53.935143</td>\n      <td>B_cell</td>\n    </tr>\n  </tbody>\n</table>\n<p>5 rows × 18793 columns</p>\n</div>"
     },
     "execution_count": 187,
     "metadata": {},
     "output_type": "execute_result"
    }
   ],
   "source": [
    "data.head()"
   ]
  },
  {
   "cell_type": "code",
   "execution_count": 188,
   "id": "6ca5109f",
   "metadata": {},
   "outputs": [],
   "source": [
    "b_cells_expression_data = data.query(\"Cell_type == 'B_cell'\")\n",
    "nk_cells_expression_data = data.query(\"Cell_type == 'NK_cell'\")"
   ]
  },
  {
   "cell_type": "code",
   "execution_count": 266,
   "id": "340d2767",
   "metadata": {},
   "outputs": [],
   "source": [
    "#b_cells_expression_data.to_csv(\"b_cells_expression_data.csv\")\n",
    "#nk_cells_expression_data.to_csv(\"nk_cells_expression_data.csv\")"
   ]
  },
  {
   "cell_type": "markdown",
   "id": "9365faf5",
   "metadata": {},
   "source": [
    "Уточним что размер выборок двух клеточных типов с данными экспрессии равны "
   ]
  },
  {
   "cell_type": "code",
   "execution_count": 189,
   "id": "1e37cdcb",
   "metadata": {},
   "outputs": [
    {
     "data": {
      "text/plain": "True"
     },
     "execution_count": 189,
     "metadata": {},
     "output_type": "execute_result"
    }
   ],
   "source": [
    "len(b_cells_expression_data) == len(nk_cells_expression_data)"
   ]
  },
  {
   "cell_type": "code",
   "execution_count": 190,
   "id": "06f6ba48",
   "metadata": {},
   "outputs": [
    {
     "data": {
      "text/plain": "         TMCC1     RANBP3    GABRG3    ARRDC5       LRP3      TIMM23  \\\n0    33.888550  38.384340  0.044721  1.385159  11.341853  105.193306   \n1    16.497124  35.054090  0.314645  4.329797   8.649321   50.577618   \n2     5.449933  31.783958  0.002949  2.137536   1.750892  109.201050   \n3    33.362240  56.147026  0.037295  1.604904   6.807299  100.141620   \n4    50.188510  30.165264  0.039678  1.501439   1.619954   46.916790   \n..         ...        ...       ...       ...        ...         ...   \n495  39.091270  21.292559  0.000000  5.111145   4.291092   51.991970   \n496  24.494837  53.397003  0.004436  0.000000   1.869485   92.877580   \n497   6.031427  53.015590  0.041065  0.339375   2.213989  106.173010   \n498  16.592407  58.197968  5.531140  9.906462   6.571997   75.928470   \n499  99.421600  39.542790  0.403825  0.876310  11.731087   93.894646   \n\n         TBPL1     BIRC8     TTC28   C19orf66  ...     MAGEA6       IL4I1  \\\n0    26.463990  0.000000  1.537873  27.645407  ...  21.332443    1.397932   \n1    16.684614  0.000000  1.796609  13.715611  ...   1.199440  159.147130   \n2    35.265984  0.011501  0.878889  19.361662  ...   0.002924   25.256378   \n3    25.446817  0.000000  2.502661  12.745437  ...   0.000000   14.509516   \n4    28.053373  0.018181  1.165164  30.318027  ...   0.033807   93.681190   \n..         ...       ...       ...        ...  ...        ...         ...   \n495  29.190918  0.000000  0.586704  49.823112  ...  15.923135    4.375880   \n496  17.648138  0.000000  0.486630  23.275782  ...   0.000000  118.967490   \n497  35.705780  0.004937  0.399671  15.344549  ...  10.069483   29.270880   \n498  30.512959  0.000000  6.738329  19.562070  ...   2.457385   18.326260   \n499  21.496658  0.168949  0.629990   7.309289  ...   0.064966   18.134674   \n\n        LCN12       SMG6  C1orf100      WDR75    ZBTB26    SPTY2D1  \\\n0    0.000000  23.136585  0.001902  60.218548  6.307399   9.577274   \n1    0.259244  18.986986  0.310971  25.818224  4.193348  14.181196   \n2    0.000000  32.941895  0.000000  99.555990  8.323141  29.321960   \n3    0.063003  19.036896  0.000000  49.394980  4.655794  17.683067   \n4    0.031816  19.094831  0.000000  20.201437  6.935232  20.769829   \n..        ...        ...       ...        ...       ...        ...   \n495  0.000000  15.084838  0.000000  17.283436  2.314632  15.504042   \n496  0.000000  36.090360  0.000000  59.025913  5.747504  10.299628   \n497  0.000000  21.336897  0.000000  53.501370  3.841926  21.170044   \n498  0.078343  26.984943  0.552479  48.684544  9.085583  23.428875   \n499  0.116673  19.095734  0.000000  32.339134  5.698081   9.457611   \n\n        PLEKHA2  Cell_type  \n0     44.026940     B_cell  \n1     35.779896     B_cell  \n2     30.816538     B_cell  \n3     47.143270     B_cell  \n4     53.935143     B_cell  \n..          ...        ...  \n495   54.509686     B_cell  \n496   28.361814     B_cell  \n497   34.345673     B_cell  \n498  273.135700     B_cell  \n499   59.676330     B_cell  \n\n[500 rows x 18793 columns]",
      "text/html": "<div>\n<style scoped>\n    .dataframe tbody tr th:only-of-type {\n        vertical-align: middle;\n    }\n\n    .dataframe tbody tr th {\n        vertical-align: top;\n    }\n\n    .dataframe thead th {\n        text-align: right;\n    }\n</style>\n<table border=\"1\" class=\"dataframe\">\n  <thead>\n    <tr style=\"text-align: right;\">\n      <th></th>\n      <th>TMCC1</th>\n      <th>RANBP3</th>\n      <th>GABRG3</th>\n      <th>ARRDC5</th>\n      <th>LRP3</th>\n      <th>TIMM23</th>\n      <th>TBPL1</th>\n      <th>BIRC8</th>\n      <th>TTC28</th>\n      <th>C19orf66</th>\n      <th>...</th>\n      <th>MAGEA6</th>\n      <th>IL4I1</th>\n      <th>LCN12</th>\n      <th>SMG6</th>\n      <th>C1orf100</th>\n      <th>WDR75</th>\n      <th>ZBTB26</th>\n      <th>SPTY2D1</th>\n      <th>PLEKHA2</th>\n      <th>Cell_type</th>\n    </tr>\n  </thead>\n  <tbody>\n    <tr>\n      <th>0</th>\n      <td>33.888550</td>\n      <td>38.384340</td>\n      <td>0.044721</td>\n      <td>1.385159</td>\n      <td>11.341853</td>\n      <td>105.193306</td>\n      <td>26.463990</td>\n      <td>0.000000</td>\n      <td>1.537873</td>\n      <td>27.645407</td>\n      <td>...</td>\n      <td>21.332443</td>\n      <td>1.397932</td>\n      <td>0.000000</td>\n      <td>23.136585</td>\n      <td>0.001902</td>\n      <td>60.218548</td>\n      <td>6.307399</td>\n      <td>9.577274</td>\n      <td>44.026940</td>\n      <td>B_cell</td>\n    </tr>\n    <tr>\n      <th>1</th>\n      <td>16.497124</td>\n      <td>35.054090</td>\n      <td>0.314645</td>\n      <td>4.329797</td>\n      <td>8.649321</td>\n      <td>50.577618</td>\n      <td>16.684614</td>\n      <td>0.000000</td>\n      <td>1.796609</td>\n      <td>13.715611</td>\n      <td>...</td>\n      <td>1.199440</td>\n      <td>159.147130</td>\n      <td>0.259244</td>\n      <td>18.986986</td>\n      <td>0.310971</td>\n      <td>25.818224</td>\n      <td>4.193348</td>\n      <td>14.181196</td>\n      <td>35.779896</td>\n      <td>B_cell</td>\n    </tr>\n    <tr>\n      <th>2</th>\n      <td>5.449933</td>\n      <td>31.783958</td>\n      <td>0.002949</td>\n      <td>2.137536</td>\n      <td>1.750892</td>\n      <td>109.201050</td>\n      <td>35.265984</td>\n      <td>0.011501</td>\n      <td>0.878889</td>\n      <td>19.361662</td>\n      <td>...</td>\n      <td>0.002924</td>\n      <td>25.256378</td>\n      <td>0.000000</td>\n      <td>32.941895</td>\n      <td>0.000000</td>\n      <td>99.555990</td>\n      <td>8.323141</td>\n      <td>29.321960</td>\n      <td>30.816538</td>\n      <td>B_cell</td>\n    </tr>\n    <tr>\n      <th>3</th>\n      <td>33.362240</td>\n      <td>56.147026</td>\n      <td>0.037295</td>\n      <td>1.604904</td>\n      <td>6.807299</td>\n      <td>100.141620</td>\n      <td>25.446817</td>\n      <td>0.000000</td>\n      <td>2.502661</td>\n      <td>12.745437</td>\n      <td>...</td>\n      <td>0.000000</td>\n      <td>14.509516</td>\n      <td>0.063003</td>\n      <td>19.036896</td>\n      <td>0.000000</td>\n      <td>49.394980</td>\n      <td>4.655794</td>\n      <td>17.683067</td>\n      <td>47.143270</td>\n      <td>B_cell</td>\n    </tr>\n    <tr>\n      <th>4</th>\n      <td>50.188510</td>\n      <td>30.165264</td>\n      <td>0.039678</td>\n      <td>1.501439</td>\n      <td>1.619954</td>\n      <td>46.916790</td>\n      <td>28.053373</td>\n      <td>0.018181</td>\n      <td>1.165164</td>\n      <td>30.318027</td>\n      <td>...</td>\n      <td>0.033807</td>\n      <td>93.681190</td>\n      <td>0.031816</td>\n      <td>19.094831</td>\n      <td>0.000000</td>\n      <td>20.201437</td>\n      <td>6.935232</td>\n      <td>20.769829</td>\n      <td>53.935143</td>\n      <td>B_cell</td>\n    </tr>\n    <tr>\n      <th>...</th>\n      <td>...</td>\n      <td>...</td>\n      <td>...</td>\n      <td>...</td>\n      <td>...</td>\n      <td>...</td>\n      <td>...</td>\n      <td>...</td>\n      <td>...</td>\n      <td>...</td>\n      <td>...</td>\n      <td>...</td>\n      <td>...</td>\n      <td>...</td>\n      <td>...</td>\n      <td>...</td>\n      <td>...</td>\n      <td>...</td>\n      <td>...</td>\n      <td>...</td>\n      <td>...</td>\n    </tr>\n    <tr>\n      <th>495</th>\n      <td>39.091270</td>\n      <td>21.292559</td>\n      <td>0.000000</td>\n      <td>5.111145</td>\n      <td>4.291092</td>\n      <td>51.991970</td>\n      <td>29.190918</td>\n      <td>0.000000</td>\n      <td>0.586704</td>\n      <td>49.823112</td>\n      <td>...</td>\n      <td>15.923135</td>\n      <td>4.375880</td>\n      <td>0.000000</td>\n      <td>15.084838</td>\n      <td>0.000000</td>\n      <td>17.283436</td>\n      <td>2.314632</td>\n      <td>15.504042</td>\n      <td>54.509686</td>\n      <td>B_cell</td>\n    </tr>\n    <tr>\n      <th>496</th>\n      <td>24.494837</td>\n      <td>53.397003</td>\n      <td>0.004436</td>\n      <td>0.000000</td>\n      <td>1.869485</td>\n      <td>92.877580</td>\n      <td>17.648138</td>\n      <td>0.000000</td>\n      <td>0.486630</td>\n      <td>23.275782</td>\n      <td>...</td>\n      <td>0.000000</td>\n      <td>118.967490</td>\n      <td>0.000000</td>\n      <td>36.090360</td>\n      <td>0.000000</td>\n      <td>59.025913</td>\n      <td>5.747504</td>\n      <td>10.299628</td>\n      <td>28.361814</td>\n      <td>B_cell</td>\n    </tr>\n    <tr>\n      <th>497</th>\n      <td>6.031427</td>\n      <td>53.015590</td>\n      <td>0.041065</td>\n      <td>0.339375</td>\n      <td>2.213989</td>\n      <td>106.173010</td>\n      <td>35.705780</td>\n      <td>0.004937</td>\n      <td>0.399671</td>\n      <td>15.344549</td>\n      <td>...</td>\n      <td>10.069483</td>\n      <td>29.270880</td>\n      <td>0.000000</td>\n      <td>21.336897</td>\n      <td>0.000000</td>\n      <td>53.501370</td>\n      <td>3.841926</td>\n      <td>21.170044</td>\n      <td>34.345673</td>\n      <td>B_cell</td>\n    </tr>\n    <tr>\n      <th>498</th>\n      <td>16.592407</td>\n      <td>58.197968</td>\n      <td>5.531140</td>\n      <td>9.906462</td>\n      <td>6.571997</td>\n      <td>75.928470</td>\n      <td>30.512959</td>\n      <td>0.000000</td>\n      <td>6.738329</td>\n      <td>19.562070</td>\n      <td>...</td>\n      <td>2.457385</td>\n      <td>18.326260</td>\n      <td>0.078343</td>\n      <td>26.984943</td>\n      <td>0.552479</td>\n      <td>48.684544</td>\n      <td>9.085583</td>\n      <td>23.428875</td>\n      <td>273.135700</td>\n      <td>B_cell</td>\n    </tr>\n    <tr>\n      <th>499</th>\n      <td>99.421600</td>\n      <td>39.542790</td>\n      <td>0.403825</td>\n      <td>0.876310</td>\n      <td>11.731087</td>\n      <td>93.894646</td>\n      <td>21.496658</td>\n      <td>0.168949</td>\n      <td>0.629990</td>\n      <td>7.309289</td>\n      <td>...</td>\n      <td>0.064966</td>\n      <td>18.134674</td>\n      <td>0.116673</td>\n      <td>19.095734</td>\n      <td>0.000000</td>\n      <td>32.339134</td>\n      <td>5.698081</td>\n      <td>9.457611</td>\n      <td>59.676330</td>\n      <td>B_cell</td>\n    </tr>\n  </tbody>\n</table>\n<p>500 rows × 18793 columns</p>\n</div>"
     },
     "execution_count": 190,
     "metadata": {},
     "output_type": "execute_result"
    }
   ],
   "source": [
    "b_cells_expression_data"
   ]
  },
  {
   "cell_type": "code",
   "execution_count": 191,
   "id": "def4c9b7",
   "metadata": {},
   "outputs": [],
   "source": [
    "example_gene = \"TMCC1\""
   ]
  },
  {
   "cell_type": "code",
   "execution_count": 265,
   "id": "e454cd7a",
   "metadata": {},
   "outputs": [
    {
     "data": {
      "text/plain": "<Figure size 640x480 with 1 Axes>",
      "image/png": "[encoded data removed]"
     },
     "metadata": {},
     "output_type": "display_data"
    }
   ],
   "source": [
    "sns.histplot(b_cells_expression_data[example_gene], stat=\"density\");\n"
   ]
  },
  {
   "cell_type": "code",
   "execution_count": 19,
   "id": "920345a4",
   "metadata": {},
   "outputs": [
    {
     "data": {
      "text/plain": "<Figure size 640x480 with 1 Axes>",
      "image/png": "[encoded data removed]"
     },
     "metadata": {},
     "output_type": "display_data"
    }
   ],
   "source": [
    "sns.histplot(nk_cells_expression_data[example_gene], stat=\"density\");"
   ]
  },
  {
   "cell_type": "markdown",
   "id": "67b9349e",
   "metadata": {},
   "source": [
    "Выведем истинные средние экспрессии из двух клеточных типов"
   ]
  },
  {
   "cell_type": "code",
   "execution_count": 20,
   "id": "823e36d5",
   "metadata": {},
   "outputs": [
    {
     "data": {
      "text/plain": "30.431319600400002"
     },
     "execution_count": 20,
     "metadata": {},
     "output_type": "execute_result"
    }
   ],
   "source": [
    "nk_cells_expression_data[example_gene].mean()"
   ]
  },
  {
   "cell_type": "code",
   "execution_count": 21,
   "id": "41597b1a",
   "metadata": {},
   "outputs": [
    {
     "data": {
      "text/plain": "26.978971829199992"
     },
     "execution_count": 21,
     "metadata": {},
     "output_type": "execute_result"
    }
   ],
   "source": [
    "b_cells_expression_data[example_gene].mean()"
   ]
  },
  {
   "cell_type": "markdown",
   "id": "e83a5421",
   "metadata": {},
   "source": [
    "Вроде средние отличаются, вопрос статистически ли достоверно? "
   ]
  },
  {
   "cell_type": "markdown",
   "id": "556fc7b6",
   "metadata": {},
   "source": [
    "Задание:\n",
    "\n",
    "##\n",
    "Напишите функцию, которая будет принимать на вход экспрессии гена, семплировать их них выборки размера sample_size, считать среднюю экспрессию и повторять это n_samples раз. Примените эту функцию к экспрессиям гена TMCC1 в обоих клеточных типах, визуализируйте их. Отличаются ли средние экспрессии данного гена у этих клеточных типов?"
   ]
  },
  {
   "cell_type": "code",
   "execution_count": 125,
   "id": "59c66394",
   "metadata": {},
   "outputs": [],
   "source": [
    "def demonstrate_clt(expressions, sample_size = 100, n_samples = 10000):\n",
    "    sum_ind_random_sample = []\n",
    "    for _ in range(n_samples):\n",
    "        random_sample = np.random.choice(expressions, sample_size)\n",
    "        mean_of_sample = random_sample.mean()\n",
    "        sum_ind_random_sample.append(mean_of_sample)\n",
    "    sum_ind_random_sample = np.array(sum_ind_random_sample)\n",
    "    return sum_ind_random_sample\n",
    "    "
   ]
  },
  {
   "cell_type": "code",
   "execution_count": 126,
   "id": "7396f711",
   "metadata": {},
   "outputs": [],
   "source": [
    "sample_nk = demonstrate_clt(nk_cells_expression_data[example_gene], sample_size = 100, n_samples = 10000)"
   ]
  },
  {
   "cell_type": "code",
   "execution_count": 127,
   "id": "8b72f13f",
   "metadata": {},
   "outputs": [
    {
     "data": {
      "text/plain": "<Figure size 640x480 with 1 Axes>",
      "image/png": "[encoded data removed]"
     },
     "metadata": {},
     "output_type": "display_data"
    }
   ],
   "source": [
    "sns.histplot(sample_nk, stat=\"density\");"
   ]
  },
  {
   "cell_type": "code",
   "execution_count": 128,
   "id": "edd9b218",
   "metadata": {},
   "outputs": [
    {
     "data": {
      "text/plain": "500"
     },
     "execution_count": 128,
     "metadata": {},
     "output_type": "execute_result"
    }
   ],
   "source": [
    "len(nk_cells_expression_data)"
   ]
  },
  {
   "cell_type": "code",
   "execution_count": 129,
   "id": "c80ce77a",
   "metadata": {},
   "outputs": [
    {
     "data": {
      "text/plain": "30.4152976930741"
     },
     "execution_count": 129,
     "metadata": {},
     "output_type": "execute_result"
    }
   ],
   "source": [
    "sample_nk.mean()"
   ]
  },
  {
   "cell_type": "code",
   "execution_count": 136,
   "id": "47296143",
   "metadata": {},
   "outputs": [
    {
     "data": {
      "text/plain": "<Figure size 640x480 with 1 Axes>",
      "image/png": "[encoded data removed]"
     },
     "metadata": {},
     "output_type": "display_data"
    }
   ],
   "source": [
    "b_cell_sample = demonstrate_clt(b_cells_expression_data[example_gene], sample_size = 100, n_samples = 10000)\n",
    "sns.histplot(b_cell_sample, stat=\"density\");"
   ]
  },
  {
   "cell_type": "code",
   "execution_count": 28,
   "id": "eb009849",
   "metadata": {},
   "outputs": [
    {
     "data": {
      "text/plain": "27.081049983401098"
     },
     "execution_count": 28,
     "metadata": {},
     "output_type": "execute_result"
    }
   ],
   "source": [
    "b_cell_sample.mean()"
   ]
  },
  {
   "cell_type": "markdown",
   "id": "185892e8",
   "metadata": {},
   "source": [
    "Реализуем функцию считающую доверительные интервалы для оценки мат ожидания, поскольку станадартное отклонение генеральной совокупности известно, оценить параметр мат ожидания можно используя квантили\n",
    " нормального распределения.\n"
   ]
  },
  {
   "cell_type": "code",
   "execution_count": 33,
   "outputs": [],
   "source": [
    "import scipy.stats"
   ],
   "metadata": {
    "collapsed": false
   }
  },
  {
   "cell_type": "code",
   "execution_count": null,
   "outputs": [],
   "source": [],
   "metadata": {
    "collapsed": false
   }
  },
  {
   "cell_type": "code",
   "execution_count": 223,
   "outputs": [],
   "source": [
    "def manual_calculate_CI(dataset, gene, sample, alpha = 0.05): #alpha - допустимый уровень ошибки 1 рода\n",
    "    tail_alpha = alpha/2\n",
    "    quantile = scipy.stats.norm.ppf(tail_alpha)\n",
    "    sigma = dataset[gene].std()\n",
    "    sem = sigma / np.sqrt(len(sample))\n",
    "    left_bound, right_bound = sample.mean() + quantile*sem, sample.mean() - quantile*sem\n",
    "    return left_bound, right_bound\n",
    "\n",
    "\n",
    "\n"
   ],
   "metadata": {
    "collapsed": false
   }
  },
  {
   "cell_type": "markdown",
   "source": [
    "Пример как ведут себя доверительнные интервалы при разных alpha (порог ошибки первого рода):\n",
    "1) alpha - очень маленькое, границы доверительных интервалов широкие (покрывают почти всю плотностную массу)\n",
    "2) alpha - почти единица(множественные сравнения), границы доверительных интервалов узкие (покрывают узкую плотностную массу), фактически вырождаются("
   ],
   "metadata": {
    "collapsed": false
   }
  },
  {
   "cell_type": "code",
   "execution_count": 225,
   "outputs": [
    {
     "data": {
      "text/plain": "(24.319827736996842, 29.558282293344156)"
     },
     "execution_count": 225,
     "metadata": {},
     "output_type": "execute_result"
    }
   ],
   "source": [
    "manual_calculate_CI(b_cells_expression_data, example_gene, b_cell_sample, alpha = 1e-10)"
   ],
   "metadata": {
    "collapsed": false
   }
  },
  {
   "cell_type": "code",
   "execution_count": 227,
   "outputs": [
    {
     "data": {
      "text/plain": "(26.9390550151705, 26.9390550151705)"
     },
     "execution_count": 227,
     "metadata": {},
     "output_type": "execute_result"
    }
   ],
   "source": [
    "manual_calculate_CI(b_cells_expression_data, example_gene, b_cell_sample, alpha = 1)"
   ],
   "metadata": {
    "collapsed": false
   }
  },
  {
   "cell_type": "code",
   "execution_count": 228,
   "id": "e677f2e4",
   "metadata": {},
   "outputs": [],
   "source": [
    "def check_intervals_intersect(first_ci, second_ci):\n",
    "    L1, R1 = first_ci\n",
    "    L2, R2 = second_ci\n",
    "    if R2 < L1 or R1 < L2:\n",
    "        are_intersect = True\n",
    "    else:\n",
    "        are_intersect = False\n",
    "    return are_intersect # True or False"
   ]
  },
  {
   "cell_type": "code",
   "execution_count": 229,
   "id": "76f5221c",
   "metadata": {},
   "outputs": [
    {
     "data": {
      "text/plain": "18792"
     },
     "execution_count": 229,
     "metadata": {},
     "output_type": "execute_result"
    }
   ],
   "source": [
    "len(data.columns[:-1]) # all genes"
   ]
  },
  {
   "cell_type": "code",
   "execution_count": 261,
   "id": "d5bd228a",
   "metadata": {},
   "outputs": [],
   "source": [
    "def check_dge_with_ci(one_cell_ds, two_cell_ds, multiple_corrections, method = \"bonferroni\"):\n",
    "    ci_test_results = []\n",
    "    alpha =  1 - (1 - 0.05)**len(one_cell_ds.columns[:-1])\n",
    "    if multiple_corrections:\n",
    "      _, _, _, alpha  = multipletests(pvals = [1]*len(one_cell_ds.columns[:-1]) , alpha=alpha, method=method, is_sorted=False, returnsorted=False)\n",
    "    for gene in one_cell_ds.columns[:-1]:\n",
    "        one_cell_sample = np.random.choice(one_cell_ds[gene], 10000)\n",
    "        two_cell_sample = np.random.choice(two_cell_ds[gene], 10000)\n",
    "        first_ci = manual_calculate_CI(one_cell_ds, gene, one_cell_sample, alpha)\n",
    "        second_ci = manual_calculate_CI(two_cell_ds, gene, two_cell_sample, alpha)\n",
    "        res = check_intervals_intersect(first_ci, second_ci)\n",
    "        ci_test_results.append(res)\n",
    "    return ci_test_results"
   ]
  },
  {
   "cell_type": "code",
   "execution_count": 232,
   "outputs": [],
   "source": [
    "from statsmodels.stats.weightstats import ztest"
   ],
   "metadata": {
    "collapsed": false
   }
  },
  {
   "cell_type": "code",
   "execution_count": 262,
   "id": "0216970b",
   "metadata": {},
   "outputs": [],
   "source": [
    "def check_dge_with_ztest(first_table, second_table, multiple_corrections, method = 'bonferroni'):\n",
    "    z_test_results = []\n",
    "    p_values = []\n",
    "    alpha = 1 - (1 - 0.05)**len(first_table.columns[:-1])   #критическое значение ошибки 1 рода для тестирования всех генов\n",
    "    for gene in first_table.columns[:-1]:\n",
    "        _, p_value = ztest(first_table[gene], second_table[gene])\n",
    "        p_values.append(p_value)\n",
    "    if not multiple_corrections:\n",
    "        for p_value in p_values:\n",
    "            if p_value <= alpha:\n",
    "                z_test_results.append(True)\n",
    "            else:\n",
    "                z_test_results.append(False)\n",
    "    else:\n",
    "        z_test_results, p_values, _, _ = multipletests(pvals = p_values, alpha=alpha, method=method, is_sorted=False, returnsorted=False)\n",
    "    return z_test_results, p_values"
   ]
  },
  {
   "cell_type": "code",
   "execution_count": 234,
   "id": "08850201",
   "metadata": {},
   "outputs": [],
   "source": []
  },
  {
   "cell_type": "code",
   "execution_count": 235,
   "id": "6fd4af51",
   "metadata": {},
   "outputs": [],
   "source": [
    "b_cell_path = \"./b_cells_expression_data.csv\"\n",
    "nk_cell_path = \"./nk_cells_expression_data.csv\""
   ]
  },
  {
   "cell_type": "code",
   "execution_count": 236,
   "id": "5ac37aa9",
   "metadata": {},
   "outputs": [],
   "source": [
    "b_cell_data = pd.read_csv(b_cell_path, index_col = 0)"
   ]
  },
  {
   "cell_type": "code",
   "execution_count": 237,
   "id": "4147037f",
   "metadata": {},
   "outputs": [],
   "source": [
    "nk_cell_data = pd.read_csv(nk_cell_path, index_col = 0)"
   ]
  },
  {
   "cell_type": "code",
   "execution_count": 238,
   "id": "608dd870",
   "metadata": {},
   "outputs": [],
   "source": [
    "all_genes = nk_cell_data.columns[:-1]"
   ]
  },
  {
   "cell_type": "code",
   "execution_count": 239,
   "id": "ed9580f8",
   "metadata": {},
   "outputs": [],
   "source": [
    "gene = all_genes[0]"
   ]
  },
  {
   "cell_type": "code",
   "execution_count": 167,
   "id": "7380cdb5",
   "metadata": {},
   "outputs": [
    {
     "data": {
      "text/plain": [
       "26.978971829199992"
      ]
     },
     "execution_count": 167,
     "metadata": {},
     "output_type": "execute_result"
    }
   ],
   "source": [
    "b_cell_data.loc[:, gene].mean()"
   ]
  },
  {
   "cell_type": "code",
   "execution_count": 240,
   "id": "34dec90c",
   "metadata": {},
   "outputs": [],
   "source": [
    "def calc_mean_diff(table1, table2):\n",
    "    genes = table1.columns[:-1]\n",
    "    mean_diff = []\n",
    "    for gene in genes:\n",
    "        mean_b_cell = table1.loc[:, gene].mean()\n",
    "        mean_nk_cell = table2.loc[:, gene].mean()\n",
    "        diff = mean_b_cell - mean_nk_cell\n",
    "        mean_diff.append(diff)\n",
    "    return mean_diff\n",
    "    \n"
   ]
  },
  {
   "cell_type": "code",
   "execution_count": 271,
   "id": "6ccb0157",
   "metadata": {},
   "outputs": [],
   "source": [
    "def dfg_analyze(b_cell_path, nk_cell_path, multiple_corrections):\n",
    "    b_cell_data = pd.read_csv(b_cell_path, index_col = 0)\n",
    "    nk_cell_data = pd.read_csv(nk_cell_path, index_col = 0)\n",
    "    ci_test_results = check_dge_with_ci(b_cell_data, nk_cell_data, multiple_corrections=multiple_corrections)\n",
    "    z_test_results, z_test_p_values = check_dge_with_ztest(b_cell_data, nk_cell_data, multiple_corrections = multiple_corrections)\n",
    "    mean_diff = calc_mean_diff(b_cell_data, nk_cell_data)\n",
    "    results = {\n",
    "    \"ci_test_results\": ci_test_results,\n",
    "    \"z_test_results\": z_test_results,\n",
    "    \"z_test_p_values\": z_test_p_values,\n",
    "    \"mean_diff\": mean_diff}\n",
    "    results = pd.DataFrame(results)\n",
    "    return results\n",
    "\n",
    "    "
   ]
  },
  {
   "cell_type": "code",
   "execution_count": 272,
   "id": "06ccc40b",
   "metadata": {},
   "outputs": [
    {
     "data": {
      "text/plain": "       ci_test_results  z_test_results  z_test_p_values  mean_diff\n0                False           False          1.00000  -3.452348\n1                 True           False          1.00000  -6.473981\n2                False           False          1.00000   0.763407\n3                 True           False          1.00000  -3.334424\n4                 True           False          1.00000   2.725465\n...                ...             ...              ...        ...\n18787            False           False          1.00000   0.071215\n18788             True           False          1.00000   3.675664\n18789            False           False          1.00000   1.322516\n18790             True           False          1.00000  -2.393473\n18791             True            True          0.79038  16.712962\n\n[18792 rows x 4 columns]",
      "text/html": "<div>\n<style scoped>\n    .dataframe tbody tr th:only-of-type {\n        vertical-align: middle;\n    }\n\n    .dataframe tbody tr th {\n        vertical-align: top;\n    }\n\n    .dataframe thead th {\n        text-align: right;\n    }\n</style>\n<table border=\"1\" class=\"dataframe\">\n  <thead>\n    <tr style=\"text-align: right;\">\n      <th></th>\n      <th>ci_test_results</th>\n      <th>z_test_results</th>\n      <th>z_test_p_values</th>\n      <th>mean_diff</th>\n    </tr>\n  </thead>\n  <tbody>\n    <tr>\n      <th>0</th>\n      <td>False</td>\n      <td>False</td>\n      <td>1.00000</td>\n      <td>-3.452348</td>\n    </tr>\n    <tr>\n      <th>1</th>\n      <td>True</td>\n      <td>False</td>\n      <td>1.00000</td>\n      <td>-6.473981</td>\n    </tr>\n    <tr>\n      <th>2</th>\n      <td>False</td>\n      <td>False</td>\n      <td>1.00000</td>\n      <td>0.763407</td>\n    </tr>\n    <tr>\n      <th>3</th>\n      <td>True</td>\n      <td>False</td>\n      <td>1.00000</td>\n      <td>-3.334424</td>\n    </tr>\n    <tr>\n      <th>4</th>\n      <td>True</td>\n      <td>False</td>\n      <td>1.00000</td>\n      <td>2.725465</td>\n    </tr>\n    <tr>\n      <th>...</th>\n      <td>...</td>\n      <td>...</td>\n      <td>...</td>\n      <td>...</td>\n    </tr>\n    <tr>\n      <th>18787</th>\n      <td>False</td>\n      <td>False</td>\n      <td>1.00000</td>\n      <td>0.071215</td>\n    </tr>\n    <tr>\n      <th>18788</th>\n      <td>True</td>\n      <td>False</td>\n      <td>1.00000</td>\n      <td>3.675664</td>\n    </tr>\n    <tr>\n      <th>18789</th>\n      <td>False</td>\n      <td>False</td>\n      <td>1.00000</td>\n      <td>1.322516</td>\n    </tr>\n    <tr>\n      <th>18790</th>\n      <td>True</td>\n      <td>False</td>\n      <td>1.00000</td>\n      <td>-2.393473</td>\n    </tr>\n    <tr>\n      <th>18791</th>\n      <td>True</td>\n      <td>True</td>\n      <td>0.79038</td>\n      <td>16.712962</td>\n    </tr>\n  </tbody>\n</table>\n<p>18792 rows × 4 columns</p>\n</div>"
     },
     "execution_count": 272,
     "metadata": {},
     "output_type": "execute_result"
    }
   ],
   "source": [
    "dfg_analyze(b_cell_path, nk_cell_path, 1)"
   ]
  },
  {
   "cell_type": "code",
   "execution_count": 270,
   "id": "cd90f6f4",
   "metadata": {},
   "outputs": [],
   "source": []
  },
  {
   "cell_type": "code",
   "execution_count": null,
   "outputs": [],
   "source": [],
   "metadata": {
    "collapsed": false
   }
  }
 ],
 "metadata": {
  "kernelspec": {
   "display_name": "Python 3 (ipykernel)",
   "language": "python",
   "name": "python3"
  },
  "language_info": {
   "codemirror_mode": {
    "name": "ipython",
    "version": 3
   },
   "file_extension": ".py",
   "mimetype": "text/x-python",
   "name": "python",
   "nbconvert_exporter": "python",
   "pygments_lexer": "ipython3",
   "version": "3.10.6"
  }
 },
 "nbformat": 4,
 "nbformat_minor": 5
}
