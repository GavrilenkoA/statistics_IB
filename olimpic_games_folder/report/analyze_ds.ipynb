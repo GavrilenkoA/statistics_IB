{
 "cells": [
  {
   "cell_type": "code",
   "execution_count": 7,
   "id": "d9637d25",
   "metadata": {},
   "outputs": [],
   "source": [
    "import pandas as pd\n",
    "import numpy as np\n",
    "import os\n",
    "import seaborn as sns\n",
    "import matplotlib.pyplot as plt\n",
    "import scipy.stats\n",
    "import math\n"
   ]
  },
  {
   "cell_type": "code",
   "execution_count": 7,
   "id": "0602dae5",
   "metadata": {},
   "outputs": [],
   "source": [
    "\n"
   ]
  },
  {
   "cell_type": "code",
   "execution_count": 8,
   "id": "eebcc5de",
   "metadata": {},
   "outputs": [],
   "source": [
    "\n",
    "path = '../data/'"
   ]
  },
  {
   "cell_type": "code",
   "execution_count": 9,
   "id": "29a0ca1c",
   "metadata": {},
   "outputs": [],
   "source": [
    "def concat_csv(path): # получает путь до файла\n",
    "    all_csv = [path + i for i in os.listdir(path) if \".csv\" in i]\n",
    "    start_data = pd.read_csv(all_csv[0])\n",
    "    for csv in all_csv[1:]:\n",
    "        table = pd.read_csv(csv)\n",
    "        start_data = pd.concat([start_data, table],  axis = 0)\n",
    "    start_data.to_csv(path+'processed.csv', index = False)\n",
    "    return start_data"
   ]
  },
  {
   "cell_type": "code",
   "execution_count": 10,
   "id": "d2da9b5e",
   "metadata": {},
   "outputs": [],
   "source": [
    "data = concat_csv(path)"
   ]
  },
  {
   "cell_type": "code",
   "execution_count": 5,
   "outputs": [
    {
     "data": {
      "text/plain": "(271115, 15)"
     },
     "execution_count": 5,
     "metadata": {},
     "output_type": "execute_result"
    }
   ],
   "source": [],
   "metadata": {
    "collapsed": false
   }
  },
  {
   "cell_type": "markdown",
   "id": "75477aee",
   "metadata": {},
   "source": [
    "В объединенном датасете есть дупликаты - 1385 штук, удалим их"
   ]
  },
  {
   "cell_type": "code",
   "execution_count": 6,
   "id": "4651c320",
   "metadata": {},
   "outputs": [],
   "source": [
    "duplicates = data.duplicated()"
   ]
  },
  {
   "cell_type": "code",
   "execution_count": 7,
   "id": "8b7463f2",
   "metadata": {},
   "outputs": [],
   "source": [
    "idx_duplicates = duplicates[duplicates == True].index"
   ]
  },
  {
   "cell_type": "code",
   "execution_count": 8,
   "id": "6e3209e7",
   "metadata": {},
   "outputs": [],
   "source": [
    "data = data.drop(idx_duplicates)"
   ]
  },
  {
   "cell_type": "code",
   "execution_count": 9,
   "outputs": [
    {
     "data": {
      "text/plain": "(255007, 15)"
     },
     "execution_count": 9,
     "metadata": {},
     "output_type": "execute_result"
    }
   ],
   "source": [
    "data.shape"
   ],
   "metadata": {
    "collapsed": false
   }
  },
  {
   "cell_type": "code",
   "execution_count": 12,
   "outputs": [
    {
     "data": {
      "text/plain": "False"
     },
     "execution_count": 12,
     "metadata": {},
     "output_type": "execute_result"
    }
   ],
   "source": [
    "any(data.duplicated())  #теперь нет дубликатов"
   ],
   "metadata": {
    "collapsed": false
   }
  },
  {
   "cell_type": "markdown",
   "source": [
    "Пока не понимаю чем отличаются колонки Team и NOC"
   ],
   "metadata": {
    "collapsed": false
   }
  },
  {
   "cell_type": "markdown",
   "source": [],
   "metadata": {
    "collapsed": false
   }
  },
  {
   "cell_type": "code",
   "execution_count": 17,
   "outputs": [],
   "source": [
    "noc_na_index = data['NOC'].isna()[data['NOC'].isna()].index"
   ],
   "metadata": {
    "collapsed": false
   }
  },
  {
   "cell_type": "code",
   "execution_count": 18,
   "outputs": [
    {
     "data": {
      "text/plain": "Int64Index([22409, 22463, 22642, 22557], dtype='int64')"
     },
     "execution_count": 18,
     "metadata": {},
     "output_type": "execute_result"
    }
   ],
   "source": [
    "noc_na_index"
   ],
   "metadata": {
    "collapsed": false
   }
  },
  {
   "cell_type": "code",
   "execution_count": 19,
   "outputs": [],
   "source": [
    "data.drop(noc_na_index, inplace=True)   # удалим строки где нет страны, их всего 4"
   ],
   "metadata": {
    "collapsed": false
   }
  },
  {
   "cell_type": "code",
   "execution_count": 20,
   "outputs": [
    {
     "data": {
      "text/plain": "       ID                       Name Sex   Age  Height  Weight         Team  \\\n0  124517          William Van Dijck   M  23.0   185.0    65.0      Belgium   \n1  124517          William Van Dijck   M  27.0   185.0    65.0      Belgium   \n2  124517          William Van Dijck   M  31.0   185.0    65.0      Belgium   \n3  124518     Daniel \"Daan\" van Dijk   M  21.0     NaN     NaN  Netherlands   \n4  124519  Everdina \"Edith\" van Dijk   F  35.0   176.0    66.0  Netherlands   \n\n   NOC        Games    Year  Season         City      Sport  \\\n0  BEL  1984 Summer  1984.0  Summer  Los Angeles  Athletics   \n1  BEL  1988 Summer  1988.0  Summer        Seoul  Athletics   \n2  BEL  1992 Summer  1992.0  Summer    Barcelona  Athletics   \n3  NED  1928 Summer  1928.0  Summer    Amsterdam    Cycling   \n4  NED  2008 Summer  2008.0  Summer      Beijing   Swimming   \n\n                                       Event Medal  \n0  Athletics Men's 3,000 metres Steeplechase   NaN  \n1  Athletics Men's 3,000 metres Steeplechase   NaN  \n2  Athletics Men's 3,000 metres Steeplechase   NaN  \n3  Cycling Men's Tandem Sprint, 2,000 metres  Gold  \n4  Swimming Women's 10 kilometres Open Water   NaN  ",
      "text/html": "<div>\n<style scoped>\n    .dataframe tbody tr th:only-of-type {\n        vertical-align: middle;\n    }\n\n    .dataframe tbody tr th {\n        vertical-align: top;\n    }\n\n    .dataframe thead th {\n        text-align: right;\n    }\n</style>\n<table border=\"1\" class=\"dataframe\">\n  <thead>\n    <tr style=\"text-align: right;\">\n      <th></th>\n      <th>ID</th>\n      <th>Name</th>\n      <th>Sex</th>\n      <th>Age</th>\n      <th>Height</th>\n      <th>Weight</th>\n      <th>Team</th>\n      <th>NOC</th>\n      <th>Games</th>\n      <th>Year</th>\n      <th>Season</th>\n      <th>City</th>\n      <th>Sport</th>\n      <th>Event</th>\n      <th>Medal</th>\n    </tr>\n  </thead>\n  <tbody>\n    <tr>\n      <th>0</th>\n      <td>124517</td>\n      <td>William Van Dijck</td>\n      <td>M</td>\n      <td>23.0</td>\n      <td>185.0</td>\n      <td>65.0</td>\n      <td>Belgium</td>\n      <td>BEL</td>\n      <td>1984 Summer</td>\n      <td>1984.0</td>\n      <td>Summer</td>\n      <td>Los Angeles</td>\n      <td>Athletics</td>\n      <td>Athletics Men's 3,000 metres Steeplechase</td>\n      <td>NaN</td>\n    </tr>\n    <tr>\n      <th>1</th>\n      <td>124517</td>\n      <td>William Van Dijck</td>\n      <td>M</td>\n      <td>27.0</td>\n      <td>185.0</td>\n      <td>65.0</td>\n      <td>Belgium</td>\n      <td>BEL</td>\n      <td>1988 Summer</td>\n      <td>1988.0</td>\n      <td>Summer</td>\n      <td>Seoul</td>\n      <td>Athletics</td>\n      <td>Athletics Men's 3,000 metres Steeplechase</td>\n      <td>NaN</td>\n    </tr>\n    <tr>\n      <th>2</th>\n      <td>124517</td>\n      <td>William Van Dijck</td>\n      <td>M</td>\n      <td>31.0</td>\n      <td>185.0</td>\n      <td>65.0</td>\n      <td>Belgium</td>\n      <td>BEL</td>\n      <td>1992 Summer</td>\n      <td>1992.0</td>\n      <td>Summer</td>\n      <td>Barcelona</td>\n      <td>Athletics</td>\n      <td>Athletics Men's 3,000 metres Steeplechase</td>\n      <td>NaN</td>\n    </tr>\n    <tr>\n      <th>3</th>\n      <td>124518</td>\n      <td>Daniel \"Daan\" van Dijk</td>\n      <td>M</td>\n      <td>21.0</td>\n      <td>NaN</td>\n      <td>NaN</td>\n      <td>Netherlands</td>\n      <td>NED</td>\n      <td>1928 Summer</td>\n      <td>1928.0</td>\n      <td>Summer</td>\n      <td>Amsterdam</td>\n      <td>Cycling</td>\n      <td>Cycling Men's Tandem Sprint, 2,000 metres</td>\n      <td>Gold</td>\n    </tr>\n    <tr>\n      <th>4</th>\n      <td>124519</td>\n      <td>Everdina \"Edith\" van Dijk</td>\n      <td>F</td>\n      <td>35.0</td>\n      <td>176.0</td>\n      <td>66.0</td>\n      <td>Netherlands</td>\n      <td>NED</td>\n      <td>2008 Summer</td>\n      <td>2008.0</td>\n      <td>Summer</td>\n      <td>Beijing</td>\n      <td>Swimming</td>\n      <td>Swimming Women's 10 kilometres Open Water</td>\n      <td>NaN</td>\n    </tr>\n  </tbody>\n</table>\n</div>"
     },
     "execution_count": 20,
     "metadata": {},
     "output_type": "execute_result"
    }
   ],
   "source": [
    "data.head()"
   ],
   "metadata": {
    "collapsed": false
   }
  },
  {
   "cell_type": "code",
   "execution_count": 21,
   "outputs": [
    {
     "data": {
      "text/plain": "{'AFG',\n 'AHO',\n 'ALB',\n 'ALG',\n 'AND',\n 'ANG',\n 'ANT',\n 'ANZ',\n 'ARG',\n 'ARM',\n 'ARU',\n 'ASA',\n 'AUS',\n 'AUT',\n 'AZE',\n 'BAH',\n 'BAN',\n 'BAR',\n 'BDI',\n 'BEL',\n 'BEN',\n 'BER',\n 'BHU',\n 'BIH',\n 'BIZ',\n 'BLR',\n 'BOH',\n 'BOL',\n 'BOT',\n 'BRA',\n 'BRN',\n 'BRU',\n 'BUL',\n 'BUR',\n 'CAF',\n 'CAM',\n 'CAN',\n 'CAY',\n 'CGO',\n 'CHA',\n 'CHI',\n 'CHN',\n 'CIV',\n 'CMR',\n 'COD',\n 'COK',\n 'COL',\n 'COM',\n 'CPV',\n 'CRC',\n 'CRO',\n 'CRT',\n 'CUB',\n 'CYP',\n 'CZE',\n 'DEN',\n 'DJI',\n 'DMA',\n 'DOM',\n 'ECU',\n 'EGY',\n 'ERI',\n 'ESA',\n 'ESP',\n 'EST',\n 'ETH',\n 'EUN',\n 'FIJ',\n 'FIN',\n 'FRA',\n 'FRG',\n 'FSM',\n 'GAB',\n 'GAM',\n 'GBR',\n 'GBS',\n 'GDR',\n 'GEO',\n 'GEQ',\n 'GER',\n 'GHA',\n 'GRE',\n 'GRN',\n 'GUA',\n 'GUI',\n 'GUM',\n 'GUY',\n 'HAI',\n 'HKG',\n 'HON',\n 'HUN',\n 'INA',\n 'IND',\n 'IOA',\n 'IRI',\n 'IRL',\n 'IRQ',\n 'ISL',\n 'ISR',\n 'ISV',\n 'ITA',\n 'IVB',\n 'JAM',\n 'JOR',\n 'JP',\n 'JPN',\n 'KAZ',\n 'KEN',\n 'KGZ',\n 'KIR',\n 'KOR',\n 'KOS',\n 'KSA',\n 'KUW',\n 'LAO',\n 'LAT',\n 'LBA',\n 'LBR',\n 'LCA',\n 'LES',\n 'LIB',\n 'LIE',\n 'LTU',\n 'LUX',\n 'MAD',\n 'MAL',\n 'MAR',\n 'MAS',\n 'MAW',\n 'MDA',\n 'MDV',\n 'MEX',\n 'MGL',\n 'MHL',\n 'MKD',\n 'MLI',\n 'MLT',\n 'MNE',\n 'MON',\n 'MOZ',\n 'MRI',\n 'MTN',\n 'MYA',\n 'NAM',\n 'NBO',\n 'NCA',\n 'NED',\n 'NEP',\n 'NFL',\n 'NGR',\n 'NIG',\n 'NOR',\n 'NRU',\n 'NZL',\n 'OMA',\n 'PAK',\n 'PAN',\n 'PAR',\n 'PER',\n 'PHI',\n 'PLE',\n 'PLW',\n 'PNG',\n 'POL',\n 'POR',\n 'PRK',\n 'PUR',\n 'QAT',\n 'RHO',\n 'ROT',\n 'ROU',\n 'RSA',\n 'RUS',\n 'RWA',\n 'SAA',\n 'SAM',\n 'SCG',\n 'SEN',\n 'SEY',\n 'SGP',\n 'SKN',\n 'SLE',\n 'SLO',\n 'SMR',\n 'SOL',\n 'SOM',\n 'SRB',\n 'SRI',\n 'SSD',\n 'STP',\n 'SUD',\n 'SUI',\n 'SUR',\n 'SVK',\n 'SWE',\n 'SWZ',\n 'SYR',\n 'TAN',\n 'TCH',\n 'TGA',\n 'THA',\n 'TJK',\n 'TKM',\n 'TLS',\n 'TOG',\n 'TPE',\n 'TTO',\n 'TUN',\n 'TUR',\n 'TUV',\n 'UAE',\n 'UAR',\n 'UGA',\n 'UKR',\n 'UNK',\n 'URS',\n 'URU',\n 'USA',\n 'UZB',\n 'VAN',\n 'VEN',\n 'VIE',\n 'VIN',\n 'VNM',\n 'WIF',\n 'YAR',\n 'YEM',\n 'YMD',\n 'YUG',\n 'ZAM',\n 'ZIM'}"
     },
     "execution_count": 21,
     "metadata": {},
     "output_type": "execute_result"
    }
   ],
   "source": [
    "set(data.NOC)   # все выступающие страны"
   ],
   "metadata": {
    "collapsed": false
   }
  },
  {
   "cell_type": "code",
   "execution_count": 22,
   "outputs": [],
   "source": [
    "idx = list(np.where(data['NOC'] == 'USA')[0])"
   ],
   "metadata": {
    "collapsed": false
   }
  },
  {
   "cell_type": "markdown",
   "source": [
    "Видимо NOC представляет национальные команды, а Team - что-то более локальное"
   ],
   "metadata": {
    "collapsed": false
   }
  },
  {
   "cell_type": "code",
   "execution_count": 23,
   "outputs": [
    {
     "data": {
      "text/plain": "United States            17847\nUnited States-1            277\nUnited States-2            277\nUnited States-3             46\nVesper Boat Club            18\n                         ...  \nFormosa                      1\nBLO Polo Club, Rugby         1\nBrentina                     1\nA North American Team        1\nUnited States/France         1\nName: Team, Length: 97, dtype: int64"
     },
     "execution_count": 23,
     "metadata": {},
     "output_type": "execute_result"
    }
   ],
   "source": [
    "data.iloc[idx, 6].value_counts()    # видно что"
   ],
   "metadata": {
    "collapsed": false
   }
  },
  {
   "cell_type": "code",
   "execution_count": 24,
   "outputs": [
    {
     "data": {
      "text/plain": "       ID                       Name Sex   Age  Height  Weight         Team  \\\n0  124517          William Van Dijck   M  23.0   185.0    65.0      Belgium   \n1  124517          William Van Dijck   M  27.0   185.0    65.0      Belgium   \n2  124517          William Van Dijck   M  31.0   185.0    65.0      Belgium   \n3  124518     Daniel \"Daan\" van Dijk   M  21.0     NaN     NaN  Netherlands   \n4  124519  Everdina \"Edith\" van Dijk   F  35.0   176.0    66.0  Netherlands   \n\n   NOC        Games    Year  Season         City      Sport  \\\n0  BEL  1984 Summer  1984.0  Summer  Los Angeles  Athletics   \n1  BEL  1988 Summer  1988.0  Summer        Seoul  Athletics   \n2  BEL  1992 Summer  1992.0  Summer    Barcelona  Athletics   \n3  NED  1928 Summer  1928.0  Summer    Amsterdam    Cycling   \n4  NED  2008 Summer  2008.0  Summer      Beijing   Swimming   \n\n                                       Event Medal  \n0  Athletics Men's 3,000 metres Steeplechase   NaN  \n1  Athletics Men's 3,000 metres Steeplechase   NaN  \n2  Athletics Men's 3,000 metres Steeplechase   NaN  \n3  Cycling Men's Tandem Sprint, 2,000 metres  Gold  \n4  Swimming Women's 10 kilometres Open Water   NaN  ",
      "text/html": "<div>\n<style scoped>\n    .dataframe tbody tr th:only-of-type {\n        vertical-align: middle;\n    }\n\n    .dataframe tbody tr th {\n        vertical-align: top;\n    }\n\n    .dataframe thead th {\n        text-align: right;\n    }\n</style>\n<table border=\"1\" class=\"dataframe\">\n  <thead>\n    <tr style=\"text-align: right;\">\n      <th></th>\n      <th>ID</th>\n      <th>Name</th>\n      <th>Sex</th>\n      <th>Age</th>\n      <th>Height</th>\n      <th>Weight</th>\n      <th>Team</th>\n      <th>NOC</th>\n      <th>Games</th>\n      <th>Year</th>\n      <th>Season</th>\n      <th>City</th>\n      <th>Sport</th>\n      <th>Event</th>\n      <th>Medal</th>\n    </tr>\n  </thead>\n  <tbody>\n    <tr>\n      <th>0</th>\n      <td>124517</td>\n      <td>William Van Dijck</td>\n      <td>M</td>\n      <td>23.0</td>\n      <td>185.0</td>\n      <td>65.0</td>\n      <td>Belgium</td>\n      <td>BEL</td>\n      <td>1984 Summer</td>\n      <td>1984.0</td>\n      <td>Summer</td>\n      <td>Los Angeles</td>\n      <td>Athletics</td>\n      <td>Athletics Men's 3,000 metres Steeplechase</td>\n      <td>NaN</td>\n    </tr>\n    <tr>\n      <th>1</th>\n      <td>124517</td>\n      <td>William Van Dijck</td>\n      <td>M</td>\n      <td>27.0</td>\n      <td>185.0</td>\n      <td>65.0</td>\n      <td>Belgium</td>\n      <td>BEL</td>\n      <td>1988 Summer</td>\n      <td>1988.0</td>\n      <td>Summer</td>\n      <td>Seoul</td>\n      <td>Athletics</td>\n      <td>Athletics Men's 3,000 metres Steeplechase</td>\n      <td>NaN</td>\n    </tr>\n    <tr>\n      <th>2</th>\n      <td>124517</td>\n      <td>William Van Dijck</td>\n      <td>M</td>\n      <td>31.0</td>\n      <td>185.0</td>\n      <td>65.0</td>\n      <td>Belgium</td>\n      <td>BEL</td>\n      <td>1992 Summer</td>\n      <td>1992.0</td>\n      <td>Summer</td>\n      <td>Barcelona</td>\n      <td>Athletics</td>\n      <td>Athletics Men's 3,000 metres Steeplechase</td>\n      <td>NaN</td>\n    </tr>\n    <tr>\n      <th>3</th>\n      <td>124518</td>\n      <td>Daniel \"Daan\" van Dijk</td>\n      <td>M</td>\n      <td>21.0</td>\n      <td>NaN</td>\n      <td>NaN</td>\n      <td>Netherlands</td>\n      <td>NED</td>\n      <td>1928 Summer</td>\n      <td>1928.0</td>\n      <td>Summer</td>\n      <td>Amsterdam</td>\n      <td>Cycling</td>\n      <td>Cycling Men's Tandem Sprint, 2,000 metres</td>\n      <td>Gold</td>\n    </tr>\n    <tr>\n      <th>4</th>\n      <td>124519</td>\n      <td>Everdina \"Edith\" van Dijk</td>\n      <td>F</td>\n      <td>35.0</td>\n      <td>176.0</td>\n      <td>66.0</td>\n      <td>Netherlands</td>\n      <td>NED</td>\n      <td>2008 Summer</td>\n      <td>2008.0</td>\n      <td>Summer</td>\n      <td>Beijing</td>\n      <td>Swimming</td>\n      <td>Swimming Women's 10 kilometres Open Water</td>\n      <td>NaN</td>\n    </tr>\n  </tbody>\n</table>\n</div>"
     },
     "execution_count": 24,
     "metadata": {},
     "output_type": "execute_result"
    }
   ],
   "source": [
    "data.head()"
   ],
   "metadata": {
    "collapsed": false
   }
  },
  {
   "cell_type": "markdown",
   "source": [
    "###### заметим что в строчках есть повтоярющиеся спортсмены, но выступающие в разное время и (или) с др результатами"
   ],
   "metadata": {
    "collapsed": false
   }
  },
  {
   "cell_type": "markdown",
   "id": "70429eac",
   "metadata": {},
   "source": [
    "### 3\n"
   ]
  },
  {
   "cell_type": "code",
   "execution_count": 34,
   "id": "4d025683",
   "metadata": {},
   "outputs": [
    {
     "name": "stdout",
     "output_type": "stream",
     "text": [
      "Самый молодой возраст среди мужчин 11.0\n"
     ]
    }
   ],
   "source": [
    "age_m = data[(data.Sex == 'M') & (data.Year == 1992.0)].sort_values('Age').head(n=1).Age.item()\n",
    "print(f\"Самый молодой возраст среди мужчин {age_m}\")"
   ]
  },
  {
   "cell_type": "code",
   "execution_count": 36,
   "id": "3b3db4fb",
   "metadata": {},
   "outputs": [
    {
     "name": "stdout",
     "output_type": "stream",
     "text": [
      "Самый молодой возраст среди женщин 12.0\n"
     ]
    }
   ],
   "source": [
    "age_f = data[(data.Sex == 'F') & (data.Year == 1992.0)].sort_values('Age').head(n=1).Age.item()\n",
    "print(f\"Самый молодой возраст среди женщин {age_f}\")"
   ]
  },
  {
   "cell_type": "markdown",
   "id": "a61022b7",
   "metadata": {},
   "source": [
    "### 4\n"
   ]
  },
  {
   "cell_type": "code",
   "execution_count": 27,
   "id": "e68f83bc",
   "metadata": {},
   "outputs": [
    {
     "data": {
      "text/plain": "8.8036817708477"
     },
     "execution_count": 27,
     "metadata": {},
     "output_type": "execute_result"
    }
   ],
   "source": [
    "data[data.Sex == 'F'].Height.std()"
   ]
  },
  {
   "cell_type": "code",
   "execution_count": 28,
   "id": "35cf40dd",
   "metadata": {},
   "outputs": [
    {
     "data": {
      "text/plain": "167.84226384848304"
     },
     "execution_count": 28,
     "metadata": {},
     "output_type": "execute_result"
    }
   ],
   "source": [
    "data[data.Sex == 'F'].Height.mean()"
   ]
  },
  {
   "cell_type": "code",
   "execution_count": 29,
   "id": "c42f3968",
   "metadata": {},
   "outputs": [
    {
     "data": {
      "text/plain": "9.360548581294042"
     },
     "execution_count": 29,
     "metadata": {},
     "output_type": "execute_result"
    }
   ],
   "source": [
    "data[data.Sex == 'M'].Height.std()"
   ]
  },
  {
   "cell_type": "code",
   "execution_count": 30,
   "id": "2bf77762",
   "metadata": {},
   "outputs": [
    {
     "data": {
      "text/plain": "178.85846053099073"
     },
     "execution_count": 30,
     "metadata": {},
     "output_type": "execute_result"
    }
   ],
   "source": [
    "data[data.Sex == 'M'].Height.mean()"
   ]
  },
  {
   "cell_type": "markdown",
   "id": "30eaf34f",
   "metadata": {},
   "source": [
    "### 5\n"
   ]
  },
  {
   "cell_type": "code",
   "execution_count": 30,
   "id": "06ff934b",
   "metadata": {},
   "outputs": [],
   "source": [
    "#data"
   ]
  },
  {
   "cell_type": "code",
   "execution_count": 31,
   "id": "fc44f1fa",
   "metadata": {},
   "outputs": [
    {
     "data": {
      "text/plain": "172.2"
     },
     "execution_count": 31,
     "metadata": {},
     "output_type": "execute_result"
    }
   ],
   "source": [
    "round(data[(data.Sex == 'F') & (data.Year == 2000.0) & (data.Sport == \"Tennis\")].Height.mean(), 1)"
   ]
  },
  {
   "cell_type": "code",
   "execution_count": 32,
   "id": "ceddd263",
   "metadata": {},
   "outputs": [
    {
     "data": {
      "text/plain": "6.0"
     },
     "execution_count": 32,
     "metadata": {},
     "output_type": "execute_result"
    }
   ],
   "source": [
    "round(data[(data.Sex == 'F') & (data.Year == 2000.0) & (data.Sport == \"Tennis\")].Height.std(), 1)"
   ]
  },
  {
   "cell_type": "markdown",
   "id": "80e75645",
   "metadata": {},
   "source": [
    "### 6"
   ]
  },
  {
   "cell_type": "code",
   "execution_count": 45,
   "outputs": [
    {
     "data": {
      "text/plain": "(254973, 15)"
     },
     "execution_count": 45,
     "metadata": {},
     "output_type": "execute_result"
    }
   ],
   "source": [
    "data.shape"
   ],
   "metadata": {
    "collapsed": false
   }
  },
  {
   "cell_type": "code",
   "execution_count": 48,
   "outputs": [
    {
     "data": {
      "text/plain": "       ID                             Name Sex   Age  Height  Weight  \\\n0  124517                William Van Dijck   M  23.0   185.0    65.0   \n1  124517                William Van Dijck   M  27.0   185.0    65.0   \n2  124517                William Van Dijck   M  31.0   185.0    65.0   \n3  124518           Daniel \"Daan\" van Dijk   M  21.0     NaN     NaN   \n5  124520  Eleonora Maria \"Ellen\" van Dijk   F  25.0   182.0    71.0   \n\n          Team  NOC        Games    Year  Season         City      Sport  \\\n0      Belgium  BEL  1984 Summer  1984.0  Summer  Los Angeles  Athletics   \n1      Belgium  BEL  1988 Summer  1988.0  Summer        Seoul  Athletics   \n2      Belgium  BEL  1992 Summer  1992.0  Summer    Barcelona  Athletics   \n3  Netherlands  NED  1928 Summer  1928.0  Summer    Amsterdam    Cycling   \n5  Netherlands  NED  2012 Summer  2012.0  Summer       London    Cycling   \n\n                                       Event Medal  \n0  Athletics Men's 3,000 metres Steeplechase   NaN  \n1  Athletics Men's 3,000 metres Steeplechase   NaN  \n2  Athletics Men's 3,000 metres Steeplechase   NaN  \n3  Cycling Men's Tandem Sprint, 2,000 metres  Gold  \n5      Cycling Women's Road Race, Individual   NaN  ",
      "text/html": "<div>\n<style scoped>\n    .dataframe tbody tr th:only-of-type {\n        vertical-align: middle;\n    }\n\n    .dataframe tbody tr th {\n        vertical-align: top;\n    }\n\n    .dataframe thead th {\n        text-align: right;\n    }\n</style>\n<table border=\"1\" class=\"dataframe\">\n  <thead>\n    <tr style=\"text-align: right;\">\n      <th></th>\n      <th>ID</th>\n      <th>Name</th>\n      <th>Sex</th>\n      <th>Age</th>\n      <th>Height</th>\n      <th>Weight</th>\n      <th>Team</th>\n      <th>NOC</th>\n      <th>Games</th>\n      <th>Year</th>\n      <th>Season</th>\n      <th>City</th>\n      <th>Sport</th>\n      <th>Event</th>\n      <th>Medal</th>\n    </tr>\n  </thead>\n  <tbody>\n    <tr>\n      <th>0</th>\n      <td>124517</td>\n      <td>William Van Dijck</td>\n      <td>M</td>\n      <td>23.0</td>\n      <td>185.0</td>\n      <td>65.0</td>\n      <td>Belgium</td>\n      <td>BEL</td>\n      <td>1984 Summer</td>\n      <td>1984.0</td>\n      <td>Summer</td>\n      <td>Los Angeles</td>\n      <td>Athletics</td>\n      <td>Athletics Men's 3,000 metres Steeplechase</td>\n      <td>NaN</td>\n    </tr>\n    <tr>\n      <th>1</th>\n      <td>124517</td>\n      <td>William Van Dijck</td>\n      <td>M</td>\n      <td>27.0</td>\n      <td>185.0</td>\n      <td>65.0</td>\n      <td>Belgium</td>\n      <td>BEL</td>\n      <td>1988 Summer</td>\n      <td>1988.0</td>\n      <td>Summer</td>\n      <td>Seoul</td>\n      <td>Athletics</td>\n      <td>Athletics Men's 3,000 metres Steeplechase</td>\n      <td>NaN</td>\n    </tr>\n    <tr>\n      <th>2</th>\n      <td>124517</td>\n      <td>William Van Dijck</td>\n      <td>M</td>\n      <td>31.0</td>\n      <td>185.0</td>\n      <td>65.0</td>\n      <td>Belgium</td>\n      <td>BEL</td>\n      <td>1992 Summer</td>\n      <td>1992.0</td>\n      <td>Summer</td>\n      <td>Barcelona</td>\n      <td>Athletics</td>\n      <td>Athletics Men's 3,000 metres Steeplechase</td>\n      <td>NaN</td>\n    </tr>\n    <tr>\n      <th>3</th>\n      <td>124518</td>\n      <td>Daniel \"Daan\" van Dijk</td>\n      <td>M</td>\n      <td>21.0</td>\n      <td>NaN</td>\n      <td>NaN</td>\n      <td>Netherlands</td>\n      <td>NED</td>\n      <td>1928 Summer</td>\n      <td>1928.0</td>\n      <td>Summer</td>\n      <td>Amsterdam</td>\n      <td>Cycling</td>\n      <td>Cycling Men's Tandem Sprint, 2,000 metres</td>\n      <td>Gold</td>\n    </tr>\n    <tr>\n      <th>5</th>\n      <td>124520</td>\n      <td>Eleonora Maria \"Ellen\" van Dijk</td>\n      <td>F</td>\n      <td>25.0</td>\n      <td>182.0</td>\n      <td>71.0</td>\n      <td>Netherlands</td>\n      <td>NED</td>\n      <td>2012 Summer</td>\n      <td>2012.0</td>\n      <td>Summer</td>\n      <td>London</td>\n      <td>Cycling</td>\n      <td>Cycling Women's Road Race, Individual</td>\n      <td>NaN</td>\n    </tr>\n  </tbody>\n</table>\n</div>"
     },
     "execution_count": 48,
     "metadata": {},
     "output_type": "execute_result"
    }
   ],
   "source": [
    "data.head()"
   ],
   "metadata": {
    "collapsed": false
   }
  },
  {
   "cell_type": "code",
   "execution_count": 227,
   "outputs": [],
   "source": [
    "idx_max = data[data.Year == 2006].Weight.idxmax()"
   ],
   "metadata": {
    "collapsed": false
   }
  },
  {
   "cell_type": "code",
   "execution_count": 230,
   "id": "8fa693ea",
   "metadata": {},
   "outputs": [
    {
     "name": "stdout",
     "output_type": "stream",
     "text": [
      "Спорт где выступал самый тяжелый спортсмен -  Skeleton\n"
     ]
    }
   ],
   "source": [
    "print(f\"Спорт где выступал самый тяжелый спортсмен -  {data[data.Year == 2006].Sport.loc[idx_max]}\")"
   ]
  },
  {
   "cell_type": "markdown",
   "id": "e152225d",
   "metadata": {},
   "source": [
    "### 7"
   ]
  },
  {
   "cell_type": "code",
   "execution_count": 11,
   "id": "6790ef53",
   "metadata": {},
   "outputs": [],
   "source": [
    "def check_data(year):\n",
    "    if year in np.arange(1980, 2011):\n",
    "        return True\n",
    "    else:\n",
    "        return False"
   ]
  },
  {
   "cell_type": "code",
   "execution_count": 12,
   "id": "d676efc8",
   "metadata": {},
   "outputs": [],
   "source": [
    "pd_series = data.Year.map(lambda x: check_data(x))\n"
   ]
  },
  {
   "cell_type": "code",
   "execution_count": 13,
   "id": "6bb45df8",
   "metadata": {},
   "outputs": [],
   "source": [
    "idx_by_year = pd_series[pd_series == True].index.tolist()"
   ]
  },
  {
   "cell_type": "code",
   "execution_count": 14,
   "id": "4f08907a",
   "metadata": {},
   "outputs": [],
   "source": [
    "df_year = data.loc[idx_by_year]"
   ]
  },
  {
   "cell_type": "code",
   "execution_count": 15,
   "id": "aa256f0b",
   "metadata": {},
   "outputs": [],
   "source": [
    "rows, _ = df_year[(df_year.Medal == 'Gold') & (df_year.Sex == \"F\")].shape"
   ]
  },
  {
   "cell_type": "code",
   "execution_count": 16,
   "id": "a9f0ff8a",
   "metadata": {},
   "outputs": [
    {
     "name": "stdout",
     "output_type": "stream",
     "text": [
      "Всего было получено 21437 медалей\n"
     ]
    }
   ],
   "source": [
    "print(f\"Всего было получено {rows} медалей\")"
   ]
  },
  {
   "cell_type": "markdown",
   "id": "a77de12c",
   "metadata": {},
   "source": [
    "### 8"
   ]
  },
  {
   "cell_type": "code",
   "execution_count": 37,
   "id": "0ad9531c",
   "metadata": {},
   "outputs": [],
   "source": [
    "sportsmen = 'John Aalberg'"
   ]
  },
  {
   "cell_type": "code",
   "execution_count": 38,
   "id": "f5391567",
   "metadata": {},
   "outputs": [
    {
     "name": "stdout",
     "output_type": "stream",
     "text": [
      "Участвовал 8 раз\n"
     ]
    }
   ],
   "source": [
    "print(f'Участвовал {len(data[data.Name == sportsmen])} раз')"
   ]
  },
  {
   "cell_type": "markdown",
   "id": "5b7fce1e",
   "metadata": {},
   "source": [
    "### 9"
   ]
  },
  {
   "cell_type": "code",
   "execution_count": 39,
   "id": "49c80b0a",
   "metadata": {},
   "outputs": [],
   "source": [
    "df_2008 = data[data.Year == 2008]"
   ]
  },
  {
   "cell_type": "code",
   "execution_count": 40,
   "id": "1cd6dc1b",
   "metadata": {},
   "outputs": [],
   "source": [
    "def calculate_repr_by_year(df):\n",
    "    all_group = []\n",
    "    for start in np.arange(15, 46, 10):\n",
    "        end = start + 11\n",
    "        group = np.arange(start,end)\n",
    "        all_group.append(group)\n",
    "    stat_by_year = {}\n",
    "    for i in range(len(all_group)):\n",
    "        stat_by_year[f\"{i+1} group\"] = len(df.loc[df.Age.isin(all_group[i])])\n",
    "    return stat_by_year\n",
    "        \n",
    "    "
   ]
  },
  {
   "cell_type": "code",
   "execution_count": 41,
   "id": "1b2975b7",
   "metadata": {},
   "outputs": [],
   "source": [
    "stat_by_year = calculate_repr_by_year(df_2008)"
   ]
  },
  {
   "cell_type": "code",
   "execution_count": 42,
   "id": "e378b05b",
   "metadata": {},
   "outputs": [],
   "source": [
    "sorted_group = {entry[0]: entry[1] for entry in sorted(stat_by_year.items())}"
   ]
  },
  {
   "cell_type": "code",
   "execution_count": 43,
   "id": "7e0cf128",
   "metadata": {},
   "outputs": [
    {
     "name": "stdout",
     "output_type": "stream",
     "text": [
      "{'1 group': 7351, '2 group': 6561, '3 group': 818, '4 group': 119}\n"
     ]
    }
   ],
   "source": [
    "print(sorted_group)"
   ]
  },
  {
   "cell_type": "markdown",
   "id": "50e93a0a",
   "metadata": {},
   "source": [
    "### 10"
   ]
  },
  {
   "cell_type": "code",
   "execution_count": 44,
   "id": "d48daaa9",
   "metadata": {},
   "outputs": [
    {
     "data": {
      "text/plain": "3"
     },
     "execution_count": 44,
     "metadata": {},
     "output_type": "execute_result"
    }
   ],
   "source": [
    "len(data[data.Year == 2002].Sport.unique()) - len(data[data.Year == 1994].Sport.unique())"
   ]
  },
  {
   "cell_type": "markdown",
   "id": "d0973cf7",
   "metadata": {},
   "source": [
    "### 11"
   ]
  },
  {
   "cell_type": "code",
   "execution_count": 45,
   "id": "b101fda6",
   "metadata": {},
   "outputs": [
    {
     "data": {
      "text/plain": "       ID                       Name Sex   Age  Height  Weight         Team  \\\n0  124517          William Van Dijck   M  23.0   185.0    65.0      Belgium   \n1  124517          William Van Dijck   M  27.0   185.0    65.0      Belgium   \n2  124517          William Van Dijck   M  31.0   185.0    65.0      Belgium   \n3  124518     Daniel \"Daan\" van Dijk   M  21.0     NaN     NaN  Netherlands   \n4  124519  Everdina \"Edith\" van Dijk   F  35.0   176.0    66.0  Netherlands   \n\n   NOC        Games    Year  Season         City      Sport  \\\n0  BEL  1984 Summer  1984.0  Summer  Los Angeles  Athletics   \n1  BEL  1988 Summer  1988.0  Summer        Seoul  Athletics   \n2  BEL  1992 Summer  1992.0  Summer    Barcelona  Athletics   \n3  NED  1928 Summer  1928.0  Summer    Amsterdam    Cycling   \n4  NED  2008 Summer  2008.0  Summer      Beijing   Swimming   \n\n                                       Event Medal  \n0  Athletics Men's 3,000 metres Steeplechase   NaN  \n1  Athletics Men's 3,000 metres Steeplechase   NaN  \n2  Athletics Men's 3,000 metres Steeplechase   NaN  \n3  Cycling Men's Tandem Sprint, 2,000 metres  Gold  \n4  Swimming Women's 10 kilometres Open Water   NaN  ",
      "text/html": "<div>\n<style scoped>\n    .dataframe tbody tr th:only-of-type {\n        vertical-align: middle;\n    }\n\n    .dataframe tbody tr th {\n        vertical-align: top;\n    }\n\n    .dataframe thead th {\n        text-align: right;\n    }\n</style>\n<table border=\"1\" class=\"dataframe\">\n  <thead>\n    <tr style=\"text-align: right;\">\n      <th></th>\n      <th>ID</th>\n      <th>Name</th>\n      <th>Sex</th>\n      <th>Age</th>\n      <th>Height</th>\n      <th>Weight</th>\n      <th>Team</th>\n      <th>NOC</th>\n      <th>Games</th>\n      <th>Year</th>\n      <th>Season</th>\n      <th>City</th>\n      <th>Sport</th>\n      <th>Event</th>\n      <th>Medal</th>\n    </tr>\n  </thead>\n  <tbody>\n    <tr>\n      <th>0</th>\n      <td>124517</td>\n      <td>William Van Dijck</td>\n      <td>M</td>\n      <td>23.0</td>\n      <td>185.0</td>\n      <td>65.0</td>\n      <td>Belgium</td>\n      <td>BEL</td>\n      <td>1984 Summer</td>\n      <td>1984.0</td>\n      <td>Summer</td>\n      <td>Los Angeles</td>\n      <td>Athletics</td>\n      <td>Athletics Men's 3,000 metres Steeplechase</td>\n      <td>NaN</td>\n    </tr>\n    <tr>\n      <th>1</th>\n      <td>124517</td>\n      <td>William Van Dijck</td>\n      <td>M</td>\n      <td>27.0</td>\n      <td>185.0</td>\n      <td>65.0</td>\n      <td>Belgium</td>\n      <td>BEL</td>\n      <td>1988 Summer</td>\n      <td>1988.0</td>\n      <td>Summer</td>\n      <td>Seoul</td>\n      <td>Athletics</td>\n      <td>Athletics Men's 3,000 metres Steeplechase</td>\n      <td>NaN</td>\n    </tr>\n    <tr>\n      <th>2</th>\n      <td>124517</td>\n      <td>William Van Dijck</td>\n      <td>M</td>\n      <td>31.0</td>\n      <td>185.0</td>\n      <td>65.0</td>\n      <td>Belgium</td>\n      <td>BEL</td>\n      <td>1992 Summer</td>\n      <td>1992.0</td>\n      <td>Summer</td>\n      <td>Barcelona</td>\n      <td>Athletics</td>\n      <td>Athletics Men's 3,000 metres Steeplechase</td>\n      <td>NaN</td>\n    </tr>\n    <tr>\n      <th>3</th>\n      <td>124518</td>\n      <td>Daniel \"Daan\" van Dijk</td>\n      <td>M</td>\n      <td>21.0</td>\n      <td>NaN</td>\n      <td>NaN</td>\n      <td>Netherlands</td>\n      <td>NED</td>\n      <td>1928 Summer</td>\n      <td>1928.0</td>\n      <td>Summer</td>\n      <td>Amsterdam</td>\n      <td>Cycling</td>\n      <td>Cycling Men's Tandem Sprint, 2,000 metres</td>\n      <td>Gold</td>\n    </tr>\n    <tr>\n      <th>4</th>\n      <td>124519</td>\n      <td>Everdina \"Edith\" van Dijk</td>\n      <td>F</td>\n      <td>35.0</td>\n      <td>176.0</td>\n      <td>66.0</td>\n      <td>Netherlands</td>\n      <td>NED</td>\n      <td>2008 Summer</td>\n      <td>2008.0</td>\n      <td>Summer</td>\n      <td>Beijing</td>\n      <td>Swimming</td>\n      <td>Swimming Women's 10 kilometres Open Water</td>\n      <td>NaN</td>\n    </tr>\n  </tbody>\n</table>\n</div>"
     },
     "execution_count": 45,
     "metadata": {},
     "output_type": "execute_result"
    }
   ],
   "source": [
    "data.head()"
   ]
  },
  {
   "cell_type": "code",
   "execution_count": 46,
   "id": "363a6a1a",
   "metadata": {},
   "outputs": [],
   "source": [
    "def process_medal(df):\n",
    "    ans = {}\n",
    "    seasons = ['Summer', 'Winter']\n",
    "    for season in seasons:\n",
    "        ans[season] = {}\n",
    "        one_df = df[df.Season == season]\n",
    "        one_df = one_df.loc[:, ['Medal', 'NOC']]\n",
    "        one_df = one_df[one_df.Medal.notna()]\n",
    "        for medal in one_df.Medal.unique():\n",
    "            top_3_country = one_df[one_df.Medal == medal].NOC.value_counts().head(n=3).index.tolist()\n",
    "            top_3_count = one_df[one_df.Medal == medal].NOC.value_counts().head(n=3).tolist()\n",
    "            res = dict(zip(top_3_country, top_3_count))\n",
    "            ans[season][medal] = res\n",
    "    return ans\n",
    "    \n",
    "    \n",
    "    "
   ]
  },
  {
   "cell_type": "code",
   "execution_count": 47,
   "id": "3b0aff4c",
   "metadata": {},
   "outputs": [
    {
     "data": {
      "text/plain": "{'Summer': {'Gold': {'USA': 2472, 'URS': 832, 'GBR': 636},\n  'Bronze': {'USA': 1197, 'GER': 649, 'GBR': 620},\n  'Silver': {'USA': 1333, 'GBR': 729, 'URS': 635}},\n 'Winter': {'Gold': {'CAN': 305, 'URS': 250, 'USA': 166},\n  'Bronze': {'FIN': 215, 'SWE': 177, 'USA': 161},\n  'Silver': {'USA': 308, 'CAN': 199, 'NOR': 165}}}"
     },
     "execution_count": 47,
     "metadata": {},
     "output_type": "execute_result"
    }
   ],
   "source": [
    "process_medal(data)"
   ]
  },
  {
   "cell_type": "markdown",
   "id": "0e47b521",
   "metadata": {},
   "source": [
    "### 12"
   ]
  },
  {
   "cell_type": "code",
   "execution_count": 48,
   "id": "34577b2d",
   "metadata": {},
   "outputs": [
    {
     "data": {
      "text/plain": "175.3396186159419"
     },
     "execution_count": 48,
     "metadata": {},
     "output_type": "execute_result"
    }
   ],
   "source": [
    "data.Height.mean(skipna = True)"
   ]
  },
  {
   "cell_type": "code",
   "execution_count": 49,
   "id": "7854cdc1",
   "metadata": {},
   "outputs": [
    {
     "data": {
      "text/plain": "10.524751972913549"
     },
     "execution_count": 49,
     "metadata": {},
     "output_type": "execute_result"
    }
   ],
   "source": [
    "data.Height.std(skipna = True)"
   ]
  },
  {
   "cell_type": "code",
   "execution_count": 50,
   "id": "ed798ea2",
   "metadata": {},
   "outputs": [],
   "source": [
    "Height_z_scores = (data.Height - data.Height.mean(skipna = True))/(data.Height.std(skipna = True))"
   ]
  },
  {
   "cell_type": "code",
   "execution_count": 51,
   "id": "3691be8a",
   "metadata": {},
   "outputs": [
    {
     "data": {
      "text/plain": "0.9999999999996683"
     },
     "execution_count": 51,
     "metadata": {},
     "output_type": "execute_result"
    }
   ],
   "source": [
    "Height_z_scores.std()"
   ]
  },
  {
   "cell_type": "markdown",
   "id": "1553cb3c",
   "metadata": {},
   "source": [
    "### 13"
   ]
  },
  {
   "cell_type": "code",
   "execution_count": 52,
   "id": "2a50b90d",
   "metadata": {},
   "outputs": [],
   "source": [
    "Height_scaled = (data.Height - data.Height.min())/(data.Height.max() - data.Height.min())"
   ]
  },
  {
   "cell_type": "code",
   "execution_count": 53,
   "id": "bc8d8701",
   "metadata": {},
   "outputs": [
    {
     "data": {
      "text/plain": "0        0.272300\n1        0.272300\n2        0.272300\n3             NaN\n4        0.230047\n           ...   \n22582    0.300469\n22583    0.244131\n22584         NaN\n22585         NaN\n22586         NaN\nName: Height, Length: 271081, dtype: float64"
     },
     "execution_count": 53,
     "metadata": {},
     "output_type": "execute_result"
    }
   ],
   "source": [
    "Height_scaled"
   ]
  },
  {
   "cell_type": "markdown",
   "source": [
    "#### 14"
   ],
   "metadata": {
    "collapsed": false
   }
  },
  {
   "cell_type": "code",
   "execution_count": 54,
   "outputs": [
    {
     "data": {
      "text/plain": "(271081, 15)"
     },
     "execution_count": 54,
     "metadata": {},
     "output_type": "execute_result"
    }
   ],
   "source": [
    "data.shape"
   ],
   "metadata": {
    "collapsed": false
   }
  },
  {
   "cell_type": "code",
   "execution_count": 55,
   "outputs": [
    {
     "data": {
      "text/plain": "{'F', 'G', 'M'}"
     },
     "execution_count": 55,
     "metadata": {},
     "output_type": "execute_result"
    }
   ],
   "source": [
    "set(data.Sex)   #есть третий пол"
   ],
   "metadata": {
    "collapsed": false
   }
  },
  {
   "cell_type": "code",
   "execution_count": 56,
   "outputs": [],
   "source": [
    "mask = data[\"Sex\"] == \"G\""
   ],
   "metadata": {
    "collapsed": false
   }
  },
  {
   "cell_type": "code",
   "execution_count": 57,
   "outputs": [
    {
     "data": {
      "text/plain": "       ID               Name Sex   Age  Height  Weight            Team  NOC  \\\n42  79609         Pavel Mike   G  22.0   182.0    79.0  Czechoslovakia  TCH   \n74  79630  Anatoly Mikhaylin   G  37.0     NaN     NaN          Russia  RUS   \n\n          Games    Year  Season     City     Sport  \\\n42  1972 Summer  1972.0  Summer   Munich  Handball   \n74  1996 Summer  1996.0  Summer  Atlanta   Sailing   \n\n                                Event   Medal  \n42            Handball Men's Handball  Silver  \n74  Sailing Mixed Two Person Keelboat     NaN  ",
      "text/html": "<div>\n<style scoped>\n    .dataframe tbody tr th:only-of-type {\n        vertical-align: middle;\n    }\n\n    .dataframe tbody tr th {\n        vertical-align: top;\n    }\n\n    .dataframe thead th {\n        text-align: right;\n    }\n</style>\n<table border=\"1\" class=\"dataframe\">\n  <thead>\n    <tr style=\"text-align: right;\">\n      <th></th>\n      <th>ID</th>\n      <th>Name</th>\n      <th>Sex</th>\n      <th>Age</th>\n      <th>Height</th>\n      <th>Weight</th>\n      <th>Team</th>\n      <th>NOC</th>\n      <th>Games</th>\n      <th>Year</th>\n      <th>Season</th>\n      <th>City</th>\n      <th>Sport</th>\n      <th>Event</th>\n      <th>Medal</th>\n    </tr>\n  </thead>\n  <tbody>\n    <tr>\n      <th>42</th>\n      <td>79609</td>\n      <td>Pavel Mike</td>\n      <td>G</td>\n      <td>22.0</td>\n      <td>182.0</td>\n      <td>79.0</td>\n      <td>Czechoslovakia</td>\n      <td>TCH</td>\n      <td>1972 Summer</td>\n      <td>1972.0</td>\n      <td>Summer</td>\n      <td>Munich</td>\n      <td>Handball</td>\n      <td>Handball Men's Handball</td>\n      <td>Silver</td>\n    </tr>\n    <tr>\n      <th>74</th>\n      <td>79630</td>\n      <td>Anatoly Mikhaylin</td>\n      <td>G</td>\n      <td>37.0</td>\n      <td>NaN</td>\n      <td>NaN</td>\n      <td>Russia</td>\n      <td>RUS</td>\n      <td>1996 Summer</td>\n      <td>1996.0</td>\n      <td>Summer</td>\n      <td>Atlanta</td>\n      <td>Sailing</td>\n      <td>Sailing Mixed Two Person Keelboat</td>\n      <td>NaN</td>\n    </tr>\n  </tbody>\n</table>\n</div>"
     },
     "execution_count": 57,
     "metadata": {},
     "output_type": "execute_result"
    }
   ],
   "source": [
    "data.loc[mask]  #прсвоим им пол M"
   ],
   "metadata": {
    "collapsed": false
   }
  },
  {
   "cell_type": "code",
   "execution_count": 58,
   "outputs": [
    {
     "name": "stderr",
     "output_type": "stream",
     "text": [
      "/tmp/ipykernel_12491/110231062.py:1: SettingWithCopyWarning: \n",
      "A value is trying to be set on a copy of a slice from a DataFrame\n",
      "\n",
      "See the caveats in the documentation: https://pandas.pydata.org/pandas-docs/stable/user_guide/indexing.html#returning-a-view-versus-a-copy\n",
      "  data[\"Sex\"][mask] = \"M\"\n"
     ]
    }
   ],
   "source": [
    "data[\"Sex\"][mask] = \"M\""
   ],
   "metadata": {
    "collapsed": false
   }
  },
  {
   "cell_type": "code",
   "execution_count": 61,
   "outputs": [
    {
     "data": {
      "text/plain": "<Figure size 640x480 with 1 Axes>",
      "image/png": "[encoded data removed]"
     },
     "metadata": {},
     "output_type": "display_data"
    }
   ],
   "source": [
    "sns.boxplot(x = data['Weight'], y = data['Season'], hue = data['Sex']);"
   ],
   "metadata": {
    "collapsed": false
   }
  },
  {
   "cell_type": "code",
   "execution_count": null,
   "outputs": [],
   "source": [],
   "metadata": {
    "collapsed": false
   }
  },
  {
   "cell_type": "code",
   "execution_count": 176,
   "outputs": [
    {
     "data": {
      "text/plain": "<Figure size 640x480 with 1 Axes>",
      "image/png": "[encoded data removed]"
     },
     "metadata": {},
     "output_type": "display_data"
    }
   ],
   "source": [
    "sns.boxplot(x = data['Height'], y = data['Season'], hue = data['Sex']);"
   ],
   "metadata": {
    "collapsed": false
   }
  },
  {
   "cell_type": "code",
   "execution_count": 175,
   "outputs": [
    {
     "data": {
      "text/plain": "<Figure size 640x480 with 1 Axes>",
      "image/png": "[encoded data removed]"
     },
     "metadata": {},
     "output_type": "display_data"
    }
   ],
   "source": [
    "sns.boxplot(x = data['Age'], y = data['Season'], hue = data['Sex']);"
   ],
   "metadata": {
    "collapsed": false
   }
  },
  {
   "cell_type": "markdown",
   "source": [
    "### 15"
   ],
   "metadata": {
    "collapsed": false
   }
  },
  {
   "cell_type": "markdown",
   "source": [
    "Переменная Team 'вложена' в Переменную NOC, чтобы посмотреть является ли она какой-то доминирующей можно посмотреть как в пределах одной NOC какая из команд больше выигрывала медалей."
   ],
   "metadata": {
    "collapsed": false
   }
  },
  {
   "cell_type": "code",
   "execution_count": 207,
   "outputs": [
    {
     "name": "stdout",
     "output_type": "stream",
     "text": [
      "1175 уникальных значения переменной Team\n"
     ]
    }
   ],
   "source": [
    "print(f\"{len(set(data.Team))} уникальных значения переменной Team\")"
   ],
   "metadata": {
    "collapsed": false
   }
  },
  {
   "cell_type": "code",
   "execution_count": 64,
   "outputs": [],
   "source": [],
   "metadata": {
    "collapsed": false
   }
  },
  {
   "cell_type": "markdown",
   "source": [
    "Переведем медали по из качественной в количественную переменную"
   ],
   "metadata": {
    "collapsed": false
   }
  },
  {
   "cell_type": "code",
   "execution_count": 65,
   "outputs": [],
   "source": [
    "def translate_to_digit(row):\n",
    "    if row == 'Bronze':\n",
    "        return 5\n",
    "    elif row == \"Gold\":\n",
    "        return 15\n",
    "    elif row == \"Silver\":\n",
    "        return 10\n",
    "    if math.isnan(row):\n",
    "        return 0"
   ],
   "metadata": {
    "collapsed": false
   }
  },
  {
   "cell_type": "code",
   "execution_count": 66,
   "outputs": [],
   "source": [
    "data[\"Medal\"] = data.Medal.map(lambda x: translate_to_digit(x))"
   ],
   "metadata": {
    "collapsed": false
   }
  },
  {
   "cell_type": "markdown",
   "source": [
    "Понятно что та команда которая больше выступала имела больше шансов выигрывать  медали, но если нормировать на кол-во выступлений, можно посчитать истинную успешность выступлений.\n",
    "Например: КомандаA ыступала 5 раз, и выиграла 2 золотых и 1 серебряную медаль = ее общее кол-во очков: 2*15 + 10 = 40. 40\\5 = 8.0 за игру."
   ],
   "metadata": {
    "collapsed": false
   }
  },
  {
   "cell_type": "code",
   "execution_count": 66,
   "outputs": [],
   "source": [],
   "metadata": {
    "collapsed": false
   }
  },
  {
   "cell_type": "code",
   "execution_count": 67,
   "outputs": [],
   "source": [
    "def calculate_perfomance_team(NOC):\n",
    "    idx1 = data['NOC'] == NOC\n",
    "    quantity_perfomance = data.loc[idx1, \"Team\"].value_counts().to_dict()\n",
    "    statistics_medal_per_team = {}\n",
    "    for team in set(data.loc[idx1, \"Team\"]):\n",
    "        idx = (data['Team'] == team) & (data['NOC'] == NOC)\n",
    "        sum_medal_per_team = data.loc[idx, \"Medal\"].sum()\n",
    "        sum_of_perfomance = quantity_perfomance[team]\n",
    "        statistics_medal_per_team[team] = sum_medal_per_team/sum_of_perfomance\n",
    "    return statistics_medal_per_team\n"
   ],
   "metadata": {
    "collapsed": false
   }
  },
  {
   "cell_type": "code",
   "execution_count": 71,
   "outputs": [],
   "source": [
    "statistics_medal_per_ned = calculate_perfomance_team(\"NED\")"
   ],
   "metadata": {
    "collapsed": false
   }
  },
  {
   "cell_type": "code",
   "execution_count": 72,
   "outputs": [],
   "source": [
    "statistics_medal_per_ger = calculate_perfomance_team(\"GER\")"
   ],
   "metadata": {
    "collapsed": false
   }
  },
  {
   "cell_type": "code",
   "execution_count": 73,
   "outputs": [
    {
     "data": {
      "text/plain": "<Figure size 640x480 with 1 Axes>",
      "image/png": "[encoded data removed]"
     },
     "metadata": {},
     "output_type": "display_data"
    }
   ],
   "source": [
    "\n",
    "fig, ax = plt.subplots()\n",
    "ax.bar(range(len(statistics_medal_per_ned)), list(statistics_medal_per_ned.values()), align='center');\n",
    "ax.set_xlabel(\"Команда\")\n",
    "ax.set_ylabel(\"Коэффициент выигрыша\")\n",
    "plt.show();"
   ],
   "metadata": {
    "collapsed": false
   }
  },
  {
   "cell_type": "code",
   "execution_count": 74,
   "outputs": [
    {
     "data": {
      "text/plain": "<Figure size 640x480 with 1 Axes>",
      "image/png": "[encoded data removed]"
     },
     "metadata": {},
     "output_type": "display_data"
    }
   ],
   "source": [
    "\n",
    "fig, ax = plt.subplots()\n",
    "ax.bar(range(len(statistics_medal_per_ger)), list(statistics_medal_per_ger.values()), align='center');\n",
    "ax.set_xlabel(\"Команда\")\n",
    "ax.set_ylabel(\"Коэффициент выигрыша\")\n",
    "plt.show();"
   ],
   "metadata": {
    "collapsed": false
   }
  },
  {
   "cell_type": "markdown",
   "source": [
    "Видно -  не все команды одинаково хорошо выступают, способность побеждать у команд разная."
   ],
   "metadata": {
    "collapsed": false
   }
  },
  {
   "cell_type": "markdown",
   "source": [
    "## 16"
   ],
   "metadata": {
    "collapsed": false
   }
  },
  {
   "cell_type": "code",
   "execution_count": 139,
   "outputs": [
    {
     "data": {
      "text/plain": "       ID                       Name Sex   Age  Height  Weight         Team  \\\n0  124517          William Van Dijck   M  23.0   185.0    65.0      Belgium   \n1  124517          William Van Dijck   M  27.0   185.0    65.0      Belgium   \n2  124517          William Van Dijck   M  31.0   185.0    65.0      Belgium   \n3  124518     Daniel \"Daan\" van Dijk   M  21.0     NaN     NaN  Netherlands   \n4  124519  Everdina \"Edith\" van Dijk   F  35.0   176.0    66.0  Netherlands   \n\n   NOC        Games    Year  Season         City      Sport  \\\n0  BEL  1984 Summer  1984.0  Summer  Los Angeles  Athletics   \n1  BEL  1988 Summer  1988.0  Summer        Seoul  Athletics   \n2  BEL  1992 Summer  1992.0  Summer    Barcelona  Athletics   \n3  NED  1928 Summer  1928.0  Summer    Amsterdam    Cycling   \n4  NED  2008 Summer  2008.0  Summer      Beijing   Swimming   \n\n                                       Event  Medal  \n0  Athletics Men's 3,000 metres Steeplechase      0  \n1  Athletics Men's 3,000 metres Steeplechase      0  \n2  Athletics Men's 3,000 metres Steeplechase      0  \n3  Cycling Men's Tandem Sprint, 2,000 metres     15  \n4  Swimming Women's 10 kilometres Open Water      0  ",
      "text/html": "<div>\n<style scoped>\n    .dataframe tbody tr th:only-of-type {\n        vertical-align: middle;\n    }\n\n    .dataframe tbody tr th {\n        vertical-align: top;\n    }\n\n    .dataframe thead th {\n        text-align: right;\n    }\n</style>\n<table border=\"1\" class=\"dataframe\">\n  <thead>\n    <tr style=\"text-align: right;\">\n      <th></th>\n      <th>ID</th>\n      <th>Name</th>\n      <th>Sex</th>\n      <th>Age</th>\n      <th>Height</th>\n      <th>Weight</th>\n      <th>Team</th>\n      <th>NOC</th>\n      <th>Games</th>\n      <th>Year</th>\n      <th>Season</th>\n      <th>City</th>\n      <th>Sport</th>\n      <th>Event</th>\n      <th>Medal</th>\n    </tr>\n  </thead>\n  <tbody>\n    <tr>\n      <th>0</th>\n      <td>124517</td>\n      <td>William Van Dijck</td>\n      <td>M</td>\n      <td>23.0</td>\n      <td>185.0</td>\n      <td>65.0</td>\n      <td>Belgium</td>\n      <td>BEL</td>\n      <td>1984 Summer</td>\n      <td>1984.0</td>\n      <td>Summer</td>\n      <td>Los Angeles</td>\n      <td>Athletics</td>\n      <td>Athletics Men's 3,000 metres Steeplechase</td>\n      <td>0</td>\n    </tr>\n    <tr>\n      <th>1</th>\n      <td>124517</td>\n      <td>William Van Dijck</td>\n      <td>M</td>\n      <td>27.0</td>\n      <td>185.0</td>\n      <td>65.0</td>\n      <td>Belgium</td>\n      <td>BEL</td>\n      <td>1988 Summer</td>\n      <td>1988.0</td>\n      <td>Summer</td>\n      <td>Seoul</td>\n      <td>Athletics</td>\n      <td>Athletics Men's 3,000 metres Steeplechase</td>\n      <td>0</td>\n    </tr>\n    <tr>\n      <th>2</th>\n      <td>124517</td>\n      <td>William Van Dijck</td>\n      <td>M</td>\n      <td>31.0</td>\n      <td>185.0</td>\n      <td>65.0</td>\n      <td>Belgium</td>\n      <td>BEL</td>\n      <td>1992 Summer</td>\n      <td>1992.0</td>\n      <td>Summer</td>\n      <td>Barcelona</td>\n      <td>Athletics</td>\n      <td>Athletics Men's 3,000 metres Steeplechase</td>\n      <td>0</td>\n    </tr>\n    <tr>\n      <th>3</th>\n      <td>124518</td>\n      <td>Daniel \"Daan\" van Dijk</td>\n      <td>M</td>\n      <td>21.0</td>\n      <td>NaN</td>\n      <td>NaN</td>\n      <td>Netherlands</td>\n      <td>NED</td>\n      <td>1928 Summer</td>\n      <td>1928.0</td>\n      <td>Summer</td>\n      <td>Amsterdam</td>\n      <td>Cycling</td>\n      <td>Cycling Men's Tandem Sprint, 2,000 metres</td>\n      <td>15</td>\n    </tr>\n    <tr>\n      <th>4</th>\n      <td>124519</td>\n      <td>Everdina \"Edith\" van Dijk</td>\n      <td>F</td>\n      <td>35.0</td>\n      <td>176.0</td>\n      <td>66.0</td>\n      <td>Netherlands</td>\n      <td>NED</td>\n      <td>2008 Summer</td>\n      <td>2008.0</td>\n      <td>Summer</td>\n      <td>Beijing</td>\n      <td>Swimming</td>\n      <td>Swimming Women's 10 kilometres Open Water</td>\n      <td>0</td>\n    </tr>\n  </tbody>\n</table>\n</div>"
     },
     "execution_count": 139,
     "metadata": {},
     "output_type": "execute_result"
    }
   ],
   "source": [
    "data.head()"
   ],
   "metadata": {
    "collapsed": false
   }
  },
  {
   "cell_type": "markdown",
   "source": [
    "Гипотеза H1: Среднее выступлений за 2008 год атлетов из Сша значимо отличается в большую сторону , чем среднее выступлений атлетов  из Германии.\n",
    "Можно использовать z-тест для сравнения двух выборок. Выборка нормально распределена (размер выборки больше 30) и известна дисперия генеральной совокупности\n"
   ],
   "metadata": {
    "collapsed": false
   }
  },
  {
   "cell_type": "markdown",
   "source": [
    "![SNOWFALL](photo_2022-11-24_14-18-39.jpg)"
   ],
   "metadata": {
    "collapsed": false
   }
  },
  {
   "cell_type": "code",
   "execution_count": 117,
   "outputs": [
    {
     "data": {
      "text/plain": "0         0\n1         0\n2         0\n3        15\n4         0\n         ..\n22582     0\n22583     0\n22584     0\n22585     0\n22586     0\nName: Medal, Length: 271081, dtype: int64"
     },
     "execution_count": 117,
     "metadata": {},
     "output_type": "execute_result"
    }
   ],
   "source": [
    "data.Medal"
   ],
   "metadata": {
    "collapsed": false
   }
  },
  {
   "cell_type": "code",
   "execution_count": 118,
   "outputs": [],
   "source": [
    "population_usa = data[(data['Sport'] == 'Athletics') & (data['NOC'] == 'USA') & (data['Year'] == 2008)]"
   ],
   "metadata": {
    "collapsed": false
   }
  },
  {
   "cell_type": "code",
   "execution_count": 119,
   "outputs": [],
   "source": [
    "population_ger = data[(data['Sport'] == 'Athletics') & (data['NOC'] == 'GER') & (data['Year'] == 2008)]"
   ],
   "metadata": {
    "collapsed": false
   }
  },
  {
   "cell_type": "markdown",
   "source": [
    "ПОсчитааем станадртные отклонения в генеральных совокупностях, ведь мы их знаем"
   ],
   "metadata": {
    "collapsed": false
   }
  },
  {
   "cell_type": "code",
   "execution_count": 122,
   "outputs": [],
   "source": [
    "sd_ger = population_ger[\"Medal\"].std()\n",
    "sd_usa = population_usa[\"Medal\"].std()"
   ],
   "metadata": {
    "collapsed": false
   }
  },
  {
   "cell_type": "code",
   "execution_count": 123,
   "outputs": [],
   "source": [
    "import math"
   ],
   "metadata": {
    "collapsed": false
   }
  },
  {
   "cell_type": "markdown",
   "source": [
    "Сгенерируем случайные выборки (n = 40) из обоих ген совокупностей"
   ],
   "metadata": {
    "collapsed": false
   }
  },
  {
   "cell_type": "code",
   "execution_count": 140,
   "outputs": [],
   "source": [
    "np.random.seed(42)"
   ],
   "metadata": {
    "collapsed": false
   }
  },
  {
   "cell_type": "code",
   "execution_count": 124,
   "outputs": [],
   "source": [
    "idx_ger = np.random.choice(population_ger.index, 40)\n",
    "idx_usa = np.random.choice(population_usa.index, 40)"
   ],
   "metadata": {
    "collapsed": false
   }
  },
  {
   "cell_type": "code",
   "execution_count": 127,
   "outputs": [],
   "source": [
    "sample_ger = population_ger.loc[idx_ger, :]\n",
    "sample_usa = population_usa.loc[idx_usa, :]"
   ],
   "metadata": {
    "collapsed": false
   }
  },
  {
   "cell_type": "code",
   "execution_count": 130,
   "outputs": [],
   "source": [
    "mean_ger = sample_ger[\"Medal\"].mean()\n",
    "mean_usa = sample_usa[\"Medal\"].mean()"
   ],
   "metadata": {
    "collapsed": false
   }
  },
  {
   "cell_type": "markdown",
   "source": [
    "Считаем z-статистику"
   ],
   "metadata": {
    "collapsed": false
   }
  },
  {
   "cell_type": "code",
   "execution_count": 137,
   "outputs": [],
   "source": [
    "Z = (mean_usa - mean_ger)/(((sd_usa ** 2) / 40 + (sd_ger ** 2) / 40) ** 0.5)"
   ],
   "metadata": {
    "collapsed": false
   }
  },
  {
   "cell_type": "code",
   "execution_count": 220,
   "outputs": [
    {
     "name": "stdout",
     "output_type": "stream",
     "text": [
      "Различие стат значимо\n"
     ]
    }
   ],
   "source": [
    "if Z >= abs(scipy.stats.norm.ppf(0.05)):\n",
    "    print(\"Различие стат значимо\")"
   ],
   "metadata": {
    "collapsed": false
   }
  },
  {
   "cell_type": "markdown",
   "source": [
    "для alpha 0.05 -> Z >= 1.645"
   ],
   "metadata": {
    "collapsed": false
   }
  },
  {
   "cell_type": "markdown",
   "source": [
    "Можно сказать что среднее выступлений атлетов из Америки стат значимо больше чем среднее выступлений спортсменов из Германии."
   ],
   "metadata": {
    "collapsed": false
   }
  },
  {
   "cell_type": "markdown",
   "source": [
    "Тест №2\n",
    "Сейчас я хочу рассмотреть доверительный интервал разности средних двух выборок, зная стандартные отклонения их генеральных совокупностей.\n",
    "Каждая выборка имеет нормальное распределение.\n",
    "Выборки независимы и случайно распределены.\n",
    "Найду 99 процентный доверит интервал, разности выступлений двух сборных команд США по плаванию за разные года.\n"
   ],
   "metadata": {
    "collapsed": false
   }
  },
  {
   "cell_type": "markdown",
   "source": [
    "![SNOWFALL](photo_2022-11-24_14-11-55.jpg)"
   ],
   "metadata": {
    "collapsed": false
   }
  },
  {
   "cell_type": "code",
   "execution_count": 224,
   "outputs": [
    {
     "name": "stdout",
     "output_type": "stream",
     "text": [
      "analyze_ds.ipynb  photo_2022-11-24_14-11-55.jpg\r\n"
     ]
    }
   ],
   "source": [],
   "metadata": {
    "collapsed": false
   }
  },
  {
   "cell_type": "markdown",
   "source": [],
   "metadata": {
    "collapsed": false
   }
  },
  {
   "cell_type": "code",
   "execution_count": 150,
   "outputs": [
    {
     "data": {
      "text/plain": "       ID                       Name Sex   Age  Height  Weight         Team  \\\n0  124517          William Van Dijck   M  23.0   185.0    65.0      Belgium   \n1  124517          William Van Dijck   M  27.0   185.0    65.0      Belgium   \n2  124517          William Van Dijck   M  31.0   185.0    65.0      Belgium   \n3  124518     Daniel \"Daan\" van Dijk   M  21.0     NaN     NaN  Netherlands   \n4  124519  Everdina \"Edith\" van Dijk   F  35.0   176.0    66.0  Netherlands   \n\n   NOC        Games    Year  Season         City      Sport  \\\n0  BEL  1984 Summer  1984.0  Summer  Los Angeles  Athletics   \n1  BEL  1988 Summer  1988.0  Summer        Seoul  Athletics   \n2  BEL  1992 Summer  1992.0  Summer    Barcelona  Athletics   \n3  NED  1928 Summer  1928.0  Summer    Amsterdam    Cycling   \n4  NED  2008 Summer  2008.0  Summer      Beijing   Swimming   \n\n                                       Event  Medal  \n0  Athletics Men's 3,000 metres Steeplechase      0  \n1  Athletics Men's 3,000 metres Steeplechase      0  \n2  Athletics Men's 3,000 metres Steeplechase      0  \n3  Cycling Men's Tandem Sprint, 2,000 metres     15  \n4  Swimming Women's 10 kilometres Open Water      0  ",
      "text/html": "<div>\n<style scoped>\n    .dataframe tbody tr th:only-of-type {\n        vertical-align: middle;\n    }\n\n    .dataframe tbody tr th {\n        vertical-align: top;\n    }\n\n    .dataframe thead th {\n        text-align: right;\n    }\n</style>\n<table border=\"1\" class=\"dataframe\">\n  <thead>\n    <tr style=\"text-align: right;\">\n      <th></th>\n      <th>ID</th>\n      <th>Name</th>\n      <th>Sex</th>\n      <th>Age</th>\n      <th>Height</th>\n      <th>Weight</th>\n      <th>Team</th>\n      <th>NOC</th>\n      <th>Games</th>\n      <th>Year</th>\n      <th>Season</th>\n      <th>City</th>\n      <th>Sport</th>\n      <th>Event</th>\n      <th>Medal</th>\n    </tr>\n  </thead>\n  <tbody>\n    <tr>\n      <th>0</th>\n      <td>124517</td>\n      <td>William Van Dijck</td>\n      <td>M</td>\n      <td>23.0</td>\n      <td>185.0</td>\n      <td>65.0</td>\n      <td>Belgium</td>\n      <td>BEL</td>\n      <td>1984 Summer</td>\n      <td>1984.0</td>\n      <td>Summer</td>\n      <td>Los Angeles</td>\n      <td>Athletics</td>\n      <td>Athletics Men's 3,000 metres Steeplechase</td>\n      <td>0</td>\n    </tr>\n    <tr>\n      <th>1</th>\n      <td>124517</td>\n      <td>William Van Dijck</td>\n      <td>M</td>\n      <td>27.0</td>\n      <td>185.0</td>\n      <td>65.0</td>\n      <td>Belgium</td>\n      <td>BEL</td>\n      <td>1988 Summer</td>\n      <td>1988.0</td>\n      <td>Summer</td>\n      <td>Seoul</td>\n      <td>Athletics</td>\n      <td>Athletics Men's 3,000 metres Steeplechase</td>\n      <td>0</td>\n    </tr>\n    <tr>\n      <th>2</th>\n      <td>124517</td>\n      <td>William Van Dijck</td>\n      <td>M</td>\n      <td>31.0</td>\n      <td>185.0</td>\n      <td>65.0</td>\n      <td>Belgium</td>\n      <td>BEL</td>\n      <td>1992 Summer</td>\n      <td>1992.0</td>\n      <td>Summer</td>\n      <td>Barcelona</td>\n      <td>Athletics</td>\n      <td>Athletics Men's 3,000 metres Steeplechase</td>\n      <td>0</td>\n    </tr>\n    <tr>\n      <th>3</th>\n      <td>124518</td>\n      <td>Daniel \"Daan\" van Dijk</td>\n      <td>M</td>\n      <td>21.0</td>\n      <td>NaN</td>\n      <td>NaN</td>\n      <td>Netherlands</td>\n      <td>NED</td>\n      <td>1928 Summer</td>\n      <td>1928.0</td>\n      <td>Summer</td>\n      <td>Amsterdam</td>\n      <td>Cycling</td>\n      <td>Cycling Men's Tandem Sprint, 2,000 metres</td>\n      <td>15</td>\n    </tr>\n    <tr>\n      <th>4</th>\n      <td>124519</td>\n      <td>Everdina \"Edith\" van Dijk</td>\n      <td>F</td>\n      <td>35.0</td>\n      <td>176.0</td>\n      <td>66.0</td>\n      <td>Netherlands</td>\n      <td>NED</td>\n      <td>2008 Summer</td>\n      <td>2008.0</td>\n      <td>Summer</td>\n      <td>Beijing</td>\n      <td>Swimming</td>\n      <td>Swimming Women's 10 kilometres Open Water</td>\n      <td>0</td>\n    </tr>\n  </tbody>\n</table>\n</div>"
     },
     "execution_count": 150,
     "metadata": {},
     "output_type": "execute_result"
    }
   ],
   "source": [
    "data.head()"
   ],
   "metadata": {
    "collapsed": false
   }
  },
  {
   "cell_type": "code",
   "execution_count": 160,
   "outputs": [],
   "source": [
    "idx_2000 = (data[\"Sport\"] == \"Swimming\") & (data[\"NOC\"] == \"USA\") & (data[\"Year\"] == 2000)\n",
    "idx_2004 = (data[\"Sport\"] == \"Swimming\") & (data[\"NOC\"] == \"USA\") & (data[\"Year\"] == 2004)"
   ],
   "metadata": {
    "collapsed": false
   }
  },
  {
   "cell_type": "markdown",
   "source": [
    "Получим генеральные совокупности"
   ],
   "metadata": {
    "collapsed": false
   }
  },
  {
   "cell_type": "code",
   "execution_count": 161,
   "outputs": [],
   "source": [
    "population_2000 = data.loc[idx_2000, :]\n",
    "population_2004 = data.loc[idx_2004, :]"
   ],
   "metadata": {
    "collapsed": false
   }
  },
  {
   "cell_type": "markdown",
   "source": [
    "Получим стандартные отклонения из генеральных совокупностей"
   ],
   "metadata": {
    "collapsed": false
   }
  },
  {
   "cell_type": "code",
   "execution_count": 198,
   "outputs": [],
   "source": [
    "std_2000 = population_2000[\"Medal\"].std()\n",
    "std_2004 = population_2004[\"Medal\"].std()"
   ],
   "metadata": {
    "collapsed": false
   }
  },
  {
   "cell_type": "markdown",
   "source": [
    "Получим random sample"
   ],
   "metadata": {
    "collapsed": false
   }
  },
  {
   "cell_type": "code",
   "execution_count": 199,
   "outputs": [],
   "source": [
    "idx_2000 = np.random.choice(population_2000.index, 50)\n",
    "idx_2004 = np.random.choice(population_2004.index, 50)\n",
    "sample_2000 = population_2000.loc[idx_2000, :]\n",
    "sample_2004 = population_2004.loc[idx_2004, :]"
   ],
   "metadata": {
    "collapsed": false
   }
  },
  {
   "cell_type": "markdown",
   "source": [
    "Вычислим среднее из random sample"
   ],
   "metadata": {
    "collapsed": false
   }
  },
  {
   "cell_type": "code",
   "execution_count": 200,
   "outputs": [],
   "source": [
    "avg_2000 = sample_2000[\"Medal\"].mean()\n",
    "avg_2004 = sample_2004[\"Medal\"].mean()"
   ],
   "metadata": {
    "collapsed": false
   }
  },
  {
   "cell_type": "code",
   "execution_count": 201,
   "outputs": [],
   "source": [],
   "metadata": {
    "collapsed": false
   }
  },
  {
   "cell_type": "code",
   "execution_count": 202,
   "outputs": [],
   "source": [
    "alpha = 0.01"
   ],
   "metadata": {
    "collapsed": false
   }
  },
  {
   "cell_type": "code",
   "execution_count": 203,
   "outputs": [],
   "source": [
    "z_alpha = scipy.stats.norm.ppf(alpha/2)"
   ],
   "metadata": {
    "collapsed": false
   }
  },
  {
   "cell_type": "markdown",
   "source": [],
   "metadata": {
    "collapsed": false
   }
  },
  {
   "cell_type": "code",
   "execution_count": 210,
   "outputs": [],
   "source": [
    "left_bound = avg_2000 - avg_2004 + z_alpha * (std_2000 ** 2 / 50 + std_2004 ** 2 / 50) ** 0.5"
   ],
   "metadata": {
    "collapsed": false
   }
  },
  {
   "cell_type": "code",
   "execution_count": 211,
   "outputs": [],
   "source": [
    "right_bound = avg_2000 - avg_2004 - z_alpha * (std_2000 ** 2 / 50 + std_2004 ** 2 / 50) ** 0.5"
   ],
   "metadata": {
    "collapsed": false
   }
  },
  {
   "cell_type": "code",
   "execution_count": 215,
   "outputs": [
    {
     "name": "stdout",
     "output_type": "stream",
     "text": [
      "-4.530981215401145 < true_avg_2000 - true_avg_2004 < 1.8839223918717316\n"
     ]
    }
   ],
   "source": [
    "print(f\"{left_bound} < true_avg_2000 - true_avg_2004 < {right_bound}\")"
   ],
   "metadata": {
    "collapsed": false
   }
  },
  {
   "cell_type": "code",
   "execution_count": 217,
   "outputs": [
    {
     "data": {
      "text/plain": "0.7063210131893735"
     },
     "execution_count": 217,
     "metadata": {},
     "output_type": "execute_result"
    }
   ],
   "source": [
    "left_bound / (left_bound - right_bound)"
   ],
   "metadata": {
    "collapsed": false
   }
  },
  {
   "cell_type": "markdown",
   "source": [
    "Можно сделать сделать вывод что в 70 процентах случаев среднее успешности выступлений сборной команды в 2004 году больше чем в 2000"
   ],
   "metadata": {
    "collapsed": false
   }
  },
  {
   "cell_type": "code",
   "execution_count": null,
   "outputs": [],
   "source": [],
   "metadata": {
    "collapsed": false
   }
  }
 ],
 "metadata": {
  "kernelspec": {
   "display_name": "Python 3 (ipykernel)",
   "language": "python",
   "name": "python3"
  },
  "language_info": {
   "codemirror_mode": {
    "name": "ipython",
    "version": 3
   },
   "file_extension": ".py",
   "mimetype": "text/x-python",
   "name": "python",
   "nbconvert_exporter": "python",
   "pygments_lexer": "ipython3",
   "version": "3.9.12"
  }
 },
 "nbformat": 4,
 "nbformat_minor": 5
}
